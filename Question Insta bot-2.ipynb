{
 "cells": [
  {
   "cell_type": "code",
   "execution_count": 1,
   "metadata": {},
   "outputs": [],
   "source": [
    "from selenium import webdriver\n",
    "from selenium.webdriver.support.ui import WebDriverWait\n",
    "from selenium.common.exceptions import NoSuchElementException\n",
    "from selenium.webdriver.common.by import By \n",
    "from selenium.webdriver.support import expected_conditions as EC\n",
    "import time\n",
    "from selenium.webdriver.common.keys import Keys"
   ]
  },
  {
   "cell_type": "code",
   "execution_count": 2,
   "metadata": {},
   "outputs": [],
   "source": [
    "driver = webdriver.Chrome('C:/Users/Aman Bhalla/Downloads/chromedriver_win32/chromedriver')"
   ]
  },
  {
   "cell_type": "code",
   "execution_count": 3,
   "metadata": {},
   "outputs": [],
   "source": [
    "driver.get('https://www.instagram.com/')\n",
    "driver.implicitly_wait(10)"
   ]
  },
  {
   "cell_type": "code",
   "execution_count": 4,
   "metadata": {},
   "outputs": [],
   "source": [
    "user = driver.find_element_by_name('username')\n",
    "user.send_keys('SAMPLE USERNAME')"
   ]
  },
  {
   "cell_type": "code",
   "execution_count": 5,
   "metadata": {},
   "outputs": [],
   "source": [
    "password = driver.find_element_by_name('password')\n",
    "password.send_keys('SAMPLE PASSWORD')"
   ]
  },
  {
   "cell_type": "code",
   "execution_count": 6,
   "metadata": {},
   "outputs": [],
   "source": [
    "login = driver.find_element_by_xpath('//div[starts-with(@class,Igw0E)]/button')\n",
    "login.submit()"
   ]
  },
  {
   "cell_type": "markdown",
   "metadata": {},
   "source": [
    "# Question 1"
   ]
  },
  {
   "cell_type": "markdown",
   "metadata": {},
   "source": [
    "# Question 1.1"
   ]
  },
  {
   "cell_type": "markdown",
   "metadata": {},
   "source": [
    "•\tSearch food in the search box using xpath of the search box.\n",
    "\n",
    "•\tClick on the search box by  .click() method.\n",
    "\n",
    "•\tGather first insta handles as insta handles after searching food in search box.\n",
    "\n",
    "•\tSearching the top 10 insta handles by appending them to base address www.instagram.com and sending the url to driver.get()\n",
    "\n",
    "•\tAfter landing in the insta page no of followers of each insta handles are accessed by finding the xpath of the followers and and clicking over it \n",
    "\n",
    "•\tNumbers of followers are stored in dictionary along with respective insta handle and top 5 handles are printed.\n"
   ]
  },
  {
   "cell_type": "code",
   "execution_count": 7,
   "metadata": {},
   "outputs": [],
   "source": [
    "search_box = driver.find_element_by_xpath(\"//div[starts-with(@class,LWmhU)]/input\")\n",
    "search_box.send_keys('food')"
   ]
  },
  {
   "cell_type": "code",
   "execution_count": 8,
   "metadata": {},
   "outputs": [
    {
     "data": {
      "text/plain": [
       "[<selenium.webdriver.remote.webelement.WebElement (session=\"727d9f61af0db81d426418818cb3238c\", element=\"f67f7ee5-8553-4250-9f82-967cec784a5e\")>,\n",
       " <selenium.webdriver.remote.webelement.WebElement (session=\"727d9f61af0db81d426418818cb3238c\", element=\"171f21ab-f02d-49f7-8bda-1ad2a5ea65d5\")>,\n",
       " <selenium.webdriver.remote.webelement.WebElement (session=\"727d9f61af0db81d426418818cb3238c\", element=\"676f883d-1d0b-44ac-8a77-4ee092d4d816\")>,\n",
       " <selenium.webdriver.remote.webelement.WebElement (session=\"727d9f61af0db81d426418818cb3238c\", element=\"7befbe4c-18d4-4c17-8473-6eed35c729a8\")>,\n",
       " <selenium.webdriver.remote.webelement.WebElement (session=\"727d9f61af0db81d426418818cb3238c\", element=\"e08ba7a7-0915-4f42-a824-a3e77cdb9dfd\")>,\n",
       " <selenium.webdriver.remote.webelement.WebElement (session=\"727d9f61af0db81d426418818cb3238c\", element=\"fcf3ca4d-db33-4c85-a9fa-64e10b2c1d68\")>,\n",
       " <selenium.webdriver.remote.webelement.WebElement (session=\"727d9f61af0db81d426418818cb3238c\", element=\"145a3ad1-df14-420f-838e-20814d8021d4\")>,\n",
       " <selenium.webdriver.remote.webelement.WebElement (session=\"727d9f61af0db81d426418818cb3238c\", element=\"9fa75838-0d44-4942-bdb5-b64ce6b640a5\")>,\n",
       " <selenium.webdriver.remote.webelement.WebElement (session=\"727d9f61af0db81d426418818cb3238c\", element=\"f85ba0d8-00a8-4ef1-8be7-9d295aeb5d97\")>,\n",
       " <selenium.webdriver.remote.webelement.WebElement (session=\"727d9f61af0db81d426418818cb3238c\", element=\"1eeacbef-0923-46e7-b2cf-09d94b89a177\")>,\n",
       " <selenium.webdriver.remote.webelement.WebElement (session=\"727d9f61af0db81d426418818cb3238c\", element=\"7ce393a8-909c-4ab8-ae0b-29678e1dddfa\")>,\n",
       " <selenium.webdriver.remote.webelement.WebElement (session=\"727d9f61af0db81d426418818cb3238c\", element=\"8190da0b-1383-43e5-abc4-fe2dc86e4d30\")>,\n",
       " <selenium.webdriver.remote.webelement.WebElement (session=\"727d9f61af0db81d426418818cb3238c\", element=\"29d170e5-7a68-498b-be42-ae627727673d\")>,\n",
       " <selenium.webdriver.remote.webelement.WebElement (session=\"727d9f61af0db81d426418818cb3238c\", element=\"eb198c35-0026-4fa7-8448-77ec0a7e7631\")>,\n",
       " <selenium.webdriver.remote.webelement.WebElement (session=\"727d9f61af0db81d426418818cb3238c\", element=\"1d5f26ef-ed0b-4b72-9931-955348a2bdcd\")>,\n",
       " <selenium.webdriver.remote.webelement.WebElement (session=\"727d9f61af0db81d426418818cb3238c\", element=\"03fd2029-b4f9-4efd-bb11-8d4bf693260f\")>,\n",
       " <selenium.webdriver.remote.webelement.WebElement (session=\"727d9f61af0db81d426418818cb3238c\", element=\"7b62a580-2698-4385-898c-d398a84f0ee9\")>,\n",
       " <selenium.webdriver.remote.webelement.WebElement (session=\"727d9f61af0db81d426418818cb3238c\", element=\"24ff4b4f-5cc6-4832-912b-36fd831559a6\")>,\n",
       " <selenium.webdriver.remote.webelement.WebElement (session=\"727d9f61af0db81d426418818cb3238c\", element=\"64fc4780-5f19-4ecc-abfc-40e6a433c27f\")>,\n",
       " <selenium.webdriver.remote.webelement.WebElement (session=\"727d9f61af0db81d426418818cb3238c\", element=\"4c56ea42-0f34-4c57-b484-aec67ed9b43b\")>,\n",
       " <selenium.webdriver.remote.webelement.WebElement (session=\"727d9f61af0db81d426418818cb3238c\", element=\"af818eff-66ba-43a9-a199-75f064e1992e\")>,\n",
       " <selenium.webdriver.remote.webelement.WebElement (session=\"727d9f61af0db81d426418818cb3238c\", element=\"7c5337de-57b7-4beb-90b6-bab93c180ff7\")>,\n",
       " <selenium.webdriver.remote.webelement.WebElement (session=\"727d9f61af0db81d426418818cb3238c\", element=\"8ca2d1f1-900e-4019-a73b-76e626e2b63e\")>,\n",
       " <selenium.webdriver.remote.webelement.WebElement (session=\"727d9f61af0db81d426418818cb3238c\", element=\"a91679e0-99af-4d02-b248-3d540765f23a\")>,\n",
       " <selenium.webdriver.remote.webelement.WebElement (session=\"727d9f61af0db81d426418818cb3238c\", element=\"c04add50-f763-444d-bde8-be4f03c70bab\")>,\n",
       " <selenium.webdriver.remote.webelement.WebElement (session=\"727d9f61af0db81d426418818cb3238c\", element=\"5e9e804b-8ccd-43fa-98e1-720118c2a4d3\")>,\n",
       " <selenium.webdriver.remote.webelement.WebElement (session=\"727d9f61af0db81d426418818cb3238c\", element=\"6d58f4d0-d745-4136-8c92-5a78d4af42f6\")>,\n",
       " <selenium.webdriver.remote.webelement.WebElement (session=\"727d9f61af0db81d426418818cb3238c\", element=\"dac3056b-aedb-4ed2-a772-4cc90e9ea82f\")>,\n",
       " <selenium.webdriver.remote.webelement.WebElement (session=\"727d9f61af0db81d426418818cb3238c\", element=\"09dc6d27-ce55-4200-82e0-844e9029014d\")>,\n",
       " <selenium.webdriver.remote.webelement.WebElement (session=\"727d9f61af0db81d426418818cb3238c\", element=\"744e783a-49e1-48fc-91d8-16ba4650dadf\")>,\n",
       " <selenium.webdriver.remote.webelement.WebElement (session=\"727d9f61af0db81d426418818cb3238c\", element=\"8887e2ea-4ef4-44b3-a122-7f8007c1dc92\")>,\n",
       " <selenium.webdriver.remote.webelement.WebElement (session=\"727d9f61af0db81d426418818cb3238c\", element=\"15670016-e114-4e10-b075-8a44406713ff\")>,\n",
       " <selenium.webdriver.remote.webelement.WebElement (session=\"727d9f61af0db81d426418818cb3238c\", element=\"9d6af61b-546d-4e0f-a932-ca28b670dea2\")>,\n",
       " <selenium.webdriver.remote.webelement.WebElement (session=\"727d9f61af0db81d426418818cb3238c\", element=\"bffc5892-edd5-4365-97b3-56a55c3d6c1b\")>,\n",
       " <selenium.webdriver.remote.webelement.WebElement (session=\"727d9f61af0db81d426418818cb3238c\", element=\"dc175b66-7186-4a4e-9b43-d5ada483084d\")>,\n",
       " <selenium.webdriver.remote.webelement.WebElement (session=\"727d9f61af0db81d426418818cb3238c\", element=\"7ab91e92-11fa-47d1-8c98-739081e27083\")>,\n",
       " <selenium.webdriver.remote.webelement.WebElement (session=\"727d9f61af0db81d426418818cb3238c\", element=\"b86deec7-11de-4ca3-9e4e-1c2ccc18d716\")>,\n",
       " <selenium.webdriver.remote.webelement.WebElement (session=\"727d9f61af0db81d426418818cb3238c\", element=\"55c962fb-aa98-4751-a261-1f3860034793\")>,\n",
       " <selenium.webdriver.remote.webelement.WebElement (session=\"727d9f61af0db81d426418818cb3238c\", element=\"b1a6dbe5-fbef-4c84-9aea-b4f45930a1af\")>,\n",
       " <selenium.webdriver.remote.webelement.WebElement (session=\"727d9f61af0db81d426418818cb3238c\", element=\"3cb77c3a-dc8d-4a52-b279-7c15cb789163\")>,\n",
       " <selenium.webdriver.remote.webelement.WebElement (session=\"727d9f61af0db81d426418818cb3238c\", element=\"05d60810-fdfa-4f8b-92eb-10c291123bb0\")>,\n",
       " <selenium.webdriver.remote.webelement.WebElement (session=\"727d9f61af0db81d426418818cb3238c\", element=\"e31ca872-f9f7-4719-bd80-3f3f00588fa7\")>,\n",
       " <selenium.webdriver.remote.webelement.WebElement (session=\"727d9f61af0db81d426418818cb3238c\", element=\"f9dbb80e-633b-461c-a562-f69f2e60cad3\")>,\n",
       " <selenium.webdriver.remote.webelement.WebElement (session=\"727d9f61af0db81d426418818cb3238c\", element=\"7f82a628-2781-4543-af17-200de8df929c\")>,\n",
       " <selenium.webdriver.remote.webelement.WebElement (session=\"727d9f61af0db81d426418818cb3238c\", element=\"7f327c9d-b6c1-49dd-a57f-e83fb009db83\")>,\n",
       " <selenium.webdriver.remote.webelement.WebElement (session=\"727d9f61af0db81d426418818cb3238c\", element=\"9ab05373-296a-43ee-aa32-cd31efa2f3dc\")>,\n",
       " <selenium.webdriver.remote.webelement.WebElement (session=\"727d9f61af0db81d426418818cb3238c\", element=\"bedf2eb6-2ba8-4980-ad4b-2a3572e69d0a\")>,\n",
       " <selenium.webdriver.remote.webelement.WebElement (session=\"727d9f61af0db81d426418818cb3238c\", element=\"b5c4e1ae-717b-4261-af48-35a48df4ba10\")>,\n",
       " <selenium.webdriver.remote.webelement.WebElement (session=\"727d9f61af0db81d426418818cb3238c\", element=\"fed6678e-193e-4fbe-a8c5-b6b2f8802768\")>,\n",
       " <selenium.webdriver.remote.webelement.WebElement (session=\"727d9f61af0db81d426418818cb3238c\", element=\"b59a7aee-862c-426c-afc4-1877745289b2\")>,\n",
       " <selenium.webdriver.remote.webelement.WebElement (session=\"727d9f61af0db81d426418818cb3238c\", element=\"2a2e8aca-210d-465c-a549-7a29e2f6e6d5\")>,\n",
       " <selenium.webdriver.remote.webelement.WebElement (session=\"727d9f61af0db81d426418818cb3238c\", element=\"a614bd16-8a41-48f7-b0ad-33df1170dc68\")>,\n",
       " <selenium.webdriver.remote.webelement.WebElement (session=\"727d9f61af0db81d426418818cb3238c\", element=\"de52d951-4d91-4334-a2c6-20aead058fd4\")>,\n",
       " <selenium.webdriver.remote.webelement.WebElement (session=\"727d9f61af0db81d426418818cb3238c\", element=\"89bc3400-980c-45cc-8dc5-53f176933340\")>,\n",
       " <selenium.webdriver.remote.webelement.WebElement (session=\"727d9f61af0db81d426418818cb3238c\", element=\"c0d7f75c-6b0b-4fe8-9de8-be63deabe638\")>]"
      ]
     },
     "execution_count": 8,
     "metadata": {},
     "output_type": "execute_result"
    }
   ],
   "source": [
    "lis = driver.find_elements_by_class_name('Ap253')\n",
    "lis"
   ]
  },
  {
   "cell_type": "code",
   "execution_count": 9,
   "metadata": {},
   "outputs": [],
   "source": [
    "handles = []\n",
    "for i in range(10):\n",
    "    handles.append(lis[i].text)"
   ]
  },
  {
   "cell_type": "code",
   "execution_count": 10,
   "metadata": {},
   "outputs": [
    {
     "data": {
      "text/plain": [
       "['yourfoodlab',\n",
       " 'food.hangover_',\n",
       " 'food__photographys',\n",
       " 'fooddamittra',\n",
       " 'foodculture.inn',\n",
       " 'tummyy_hub',\n",
       " 'food',\n",
       " 'foodtalkindia',\n",
       " 'hot_for_food',\n",
       " 'delhifoodguide']"
      ]
     },
     "execution_count": 10,
     "metadata": {},
     "output_type": "execute_result"
    }
   ],
   "source": [
    "handles"
   ]
  },
  {
   "cell_type": "code",
   "execution_count": 11,
   "metadata": {},
   "outputs": [],
   "source": [
    "base_url = 'https://www.instagram.com/'\n",
    "k =[]\n",
    "for i in handles:\n",
    "    url = base_url+i+'/'\n",
    "    driver.get(url)\n",
    "    no_followers = driver.find_element_by_css_selector(\"#react-root > section > main > div > header > section > ul > li:nth-child(2) > a > span\")\n",
    "    k.append(no_followers.get_attribute('title'))"
   ]
  },
  {
   "cell_type": "code",
   "execution_count": 12,
   "metadata": {},
   "outputs": [
    {
     "data": {
      "text/plain": [
       "{'yourfoodlab': 1408618,\n",
       " 'food.hangover_': 12442,\n",
       " 'food__photographys': 135,\n",
       " 'fooddamittra': 701,\n",
       " 'foodculture.inn': 95,\n",
       " 'tummyy_hub': 124,\n",
       " 'food': 80375,\n",
       " 'foodtalkindia': 302414,\n",
       " 'hot_for_food': 68042,\n",
       " 'delhifoodguide': 104803}"
      ]
     },
     "execution_count": 12,
     "metadata": {},
     "output_type": "execute_result"
    }
   ],
   "source": [
    "number_of_followers= []\n",
    "for i in k:\n",
    "    s = i.replace(',','')\n",
    "    number_of_followers.append(int(s))\n",
    "handles_followers ={}\n",
    "for i in range(10):\n",
    "    handles_followers[handles[i]] = handles_followers.get(handles[i],number_of_followers[i])\n",
    "handles_followers"
   ]
  },
  {
   "cell_type": "markdown",
   "metadata": {},
   "source": [
    "## Top 5 Handles having max Followers"
   ]
  },
  {
   "cell_type": "code",
   "execution_count": 13,
   "metadata": {},
   "outputs": [
    {
     "name": "stdout",
     "output_type": "stream",
     "text": [
      "yourfoodlab 1408618\n",
      "foodtalkindia 302414\n",
      "delhifoodguide 104803\n",
      "food 80375\n",
      "hot_for_food 68042\n"
     ]
    }
   ],
   "source": [
    "from operator import itemgetter\n",
    "res = dict(sorted(handles_followers.items(), key = itemgetter(1), reverse = True)[:5])\n",
    "top5_handles = []\n",
    "top5_handle_followers =[]\n",
    "for i in res:\n",
    "    print(i,res[i])\n",
    "    top5_handles.append(i)\n",
    "    top5_handle_followers.append(res[i])"
   ]
  },
  {
   "cell_type": "code",
   "execution_count": 14,
   "metadata": {},
   "outputs": [
    {
     "data": {
      "text/plain": [
       "[1408618, 302414, 104803, 80375, 68042]"
      ]
     },
     "execution_count": 14,
     "metadata": {},
     "output_type": "execute_result"
    }
   ],
   "source": [
    "top5_handle_followers"
   ]
  },
  {
   "cell_type": "markdown",
   "metadata": {},
   "source": [
    "# Question 1.2"
   ]
  },
  {
   "cell_type": "markdown",
   "metadata": {},
   "source": [
    "•\tAppending the base addres of top 5 handles found , redirecting driver to each of the handles by driver.get()\n",
    "\n",
    "•\tOpening first post and checking when was it posted , if it was posted in last 3 days then count++ . \n",
    "\n",
    "•\tAfter this click on next post and again check when was it posted. Break if it was posted more than 4 days ago\n",
    "\n",
    "•\tClose the post after accessing all this info\n",
    "\n",
    "•\tSame number of post uploaded in last 3 days in a list.\n"
   ]
  },
  {
   "cell_type": "code",
   "execution_count": 15,
   "metadata": {},
   "outputs": [],
   "source": [
    "from datetime import date\n",
    "today = date.today()\n",
    "current_day= today.strftime(\"%Y-%m-%d\").replace(\"-\",\"\")\n",
    "current_day = int(current_day)\n"
   ]
  },
  {
   "cell_type": "code",
   "execution_count": 16,
   "metadata": {},
   "outputs": [],
   "source": [
    "base_url = 'https://www.instagram.com/'\n",
    "postuploaded_last3days=[]\n",
    "for i in top5_handles:\n",
    "    url = base_url+i+'/'\n",
    "    driver.get(url)\n",
    "    count = 0\n",
    "    like_post = driver.find_element_by_class_name(\"_9AhH0\")\n",
    "    like_post.click()\n",
    "    for i in range(0,10,1):\n",
    "        tim = driver.find_element_by_css_selector(\"time._1o9PC.Nzb55\")\n",
    "        d4 = tim.get_attribute('datetime').split(\"T\")[0].replace(\"-\",\"\")\n",
    "        post_date = int(d4)\n",
    "        if(current_day-post_date) <5:\n",
    "            count = count+1\n",
    "        else:\n",
    "            break\n",
    "        next_page = driver.find_element_by_css_selector('a._65Bje.coreSpriteRightPaginationArrow')\n",
    "        next_page.click()\n",
    "    postuploaded_last3days.append(count)\n",
    "    clo = driver.find_element_by_css_selector('div.Igw0E.IwRSH.eGOV_._4EzTm.BI4qX.qJPeX.fm1AK.TxciK.yiMZG')\n",
    "    clo.click()\n",
    "    "
   ]
  },
  {
   "cell_type": "markdown",
   "metadata": {},
   "source": [
    "### No. of post uploded in last three days"
   ]
  },
  {
   "cell_type": "code",
   "execution_count": 17,
   "metadata": {},
   "outputs": [
    {
     "name": "stdout",
     "output_type": "stream",
     "text": [
      "yourfoodlab : 8\n",
      "foodtalkindia : 5\n",
      "delhifoodguide : 0\n",
      "food : 10\n",
      "hot_for_food : 10\n"
     ]
    }
   ],
   "source": [
    "\n",
    "for i in range(5):\n",
    "    print(top5_handles[i],\":\",postuploaded_last3days[i])"
   ]
  },
  {
   "cell_type": "markdown",
   "metadata": {},
   "source": [
    "# Question 1.3"
   ]
  },
  {
   "cell_type": "markdown",
   "metadata": {},
   "source": [
    "## Bar Graph No. of post uploded in last three days"
   ]
  },
  {
   "cell_type": "code",
   "execution_count": 18,
   "metadata": {},
   "outputs": [
    {
     "data": {
      "image/png": "[encoded data removed]",
      "text/plain": [
       "<Figure size 432x288 with 1 Axes>"
      ]
     },
     "metadata": {
      "needs_background": "light"
     },
     "output_type": "display_data"
    }
   ],
   "source": [
    "import matplotlib.pyplot as plt \n",
    "plt.bar(top5_handles,postuploaded_last3days,color = \"indigo\",alpha =0.6,edgecolor ='black',width =0.6)\n",
    "plt.grid(color =\"darkgrey\")\n",
    "plt.xticks(rotation =30)\n",
    "plt.xlabel(\"Instagram Handles\")\n",
    "plt.ylabel(\"No. of post uploded in last three days\")\n",
    "plt.title(\"No. of post uploded in last three days by top Followed Insta Handle\")\n",
    "plt.show()"
   ]
  },
  {
   "cell_type": "markdown",
   "metadata": {},
   "source": [
    "# Question 2"
   ]
  },
  {
   "cell_type": "markdown",
   "metadata": {},
   "source": [
    "# Question 2.1"
   ]
  },
  {
   "cell_type": "markdown",
   "metadata": {},
   "source": [
    "•\tOpen the top 5 handles by appending the base addres followed by handle name scrape  content of the first 10 posts of each handle.\n",
    "\n",
    "•\tscrape  content of the first 10 posts of each handle. From the words scrapped store the word starting with hashtag.\n",
    "\n",
    "•\tOpening first post and scrape all the words starting with # and store it in a list.\n",
    "\n",
    "•\tAfter this click on next post and again repeat above task.\n"
   ]
  },
  {
   "cell_type": "code",
   "execution_count": 19,
   "metadata": {},
   "outputs": [],
   "source": [
    "base_url = 'https://www.instagram.com/'\n",
    "hashtag_lis =[]\n",
    "for i in top5_handles:\n",
    "    url = base_url+i+'/'\n",
    "    driver.get(url)\n",
    "    like_post = driver.find_element_by_class_name(\"_9AhH0\")\n",
    "    like_post.click()\n",
    "    for i in range(10):\n",
    "        try:\n",
    "            hashtag = driver.find_elements_by_css_selector(\"a.xil3i\")\n",
    "            for k in range(len(hashtag)):\n",
    "                hashtag_lis.append(hashtag[k].text)\n",
    "            next_page = driver.find_element_by_css_selector('a._65Bje.coreSpriteRightPaginationArrow')\n",
    "            next_page.click()\n",
    "        except (NoSuchElementException ):\n",
    "            next_page = driver.find_element_by_css_selector('a._65Bje.coreSpriteRightPaginationArrow')\n",
    "            next_page.click()\n",
    "    clo = driver.find_element_by_css_selector('div.Igw0E.IwRSH.eGOV_._4EzTm.BI4qX.qJPeX.fm1AK.TxciK.yiMZG')\n",
    "    clo.click()"
   ]
  },
  {
   "cell_type": "markdown",
   "metadata": {},
   "source": [
    "# Question 2.2"
   ]
  },
  {
   "cell_type": "markdown",
   "metadata": {},
   "source": [
    "•\tStore the word stored in list into a dictionary . \n",
    "\n",
    "•\tThis ill give the frequency of each word\n"
   ]
  },
  {
   "cell_type": "code",
   "execution_count": 20,
   "metadata": {},
   "outputs": [
    {
     "data": {
      "text/plain": [
       "['#YouTubeCreatorAwards',\n",
       " '#recipes',\n",
       " '#chicken',\n",
       " '#chickensofinstagram',\n",
       " '#chickenwings',\n",
       " '#chickenrecipes',\n",
       " '#chickenlover',\n",
       " '#chickenlollipop',\n",
       " '#foodstylist',\n",
       " '#mumbaistreetfood',\n",
       " '#sanjyotkeer',\n",
       " '#mouthwateringfood',\n",
       " '#recipe',\n",
       " '#foodiesofinstagram',\n",
       " '#streetfood',\n",
       " '#wontons',\n",
       " '#sanjyotkeer',\n",
       " '#foodstyling',\n",
       " '#instagram',\n",
       " '#foodporn',\n",
       " '#soupseason',\n",
       " '#souprecipe',\n",
       " '#flatlaysoftheday',\n",
       " '#flatlaysquad',\n",
       " '#flatlays',\n",
       " '#flatlaystyles',\n",
       " '#flatlayphotography',\n",
       " '#aesthetic',\n",
       " '#wontonsoup',\n",
       " '#punediaries',\n",
       " '#maharashtra_igers',\n",
       " '#maharashtra_ig',\n",
       " '#pintrest',\n",
       " '#wontonsoup',\n",
       " '#sanjyotkeer',\n",
       " '#foodforfoodies',\n",
       " '#souplover',\n",
       " '#recipe',\n",
       " '#foodie',\n",
       " '#indiancuisine',\n",
       " '#streetfood',\n",
       " '#streetfoodindia',\n",
       " '#sanjyotkeer',\n",
       " '#foodporn',\n",
       " '#recipes',\n",
       " '#foodstagram',\n",
       " '#paratha',\n",
       " '#alooparatha',\n",
       " '#yummilicious',\n",
       " '#foodiesofinstagram',\n",
       " '#parathas',\n",
       " '#breakfastideas',\n",
       " '#homemadefood',\n",
       " '#recipe',\n",
       " '#foodie',\n",
       " '#indiancuisine',\n",
       " '#foodiesofinstagram',\n",
       " '#streetfood',\n",
       " '#favouritemarathidish',\n",
       " '#recipe',\n",
       " '#monsoons',\n",
       " '#sinhagadfort',\n",
       " '#foodphotography',\n",
       " '#foodiesofinstagram',\n",
       " '#foodsofinstagram',\n",
       " '#indian',\n",
       " '#streetfood',\n",
       " '#mumbai',\n",
       " '#foodpics',\n",
       " '#streetfoods',\n",
       " '#sanjyotkeer',\n",
       " '#recipe',\n",
       " '#foodie',\n",
       " '#comfortfood',\n",
       " '#streetfood',\n",
       " '#indiancuisine',\n",
       " '#sanjyotkeer',\n",
       " '#soyachaap',\n",
       " '#recipes',\n",
       " '#food',\n",
       " '#foodporn',\n",
       " '#soyachaap',\n",
       " '#deliciousfood',\n",
       " '#mumbaifoodie',\n",
       " '#mumbaistreetfood',\n",
       " '#cooking',\n",
       " '#foodiesofinstagram',\n",
       " '#streetfood',\n",
       " '#TalkRecipe',\n",
       " '#ARAKUTasteTest',\n",
       " '#arakucoffee',\n",
       " '#specialitycoffee',\n",
       " '#tastetest',\n",
       " '#makeyourpick',\n",
       " '#coffee',\n",
       " '#coffeelover',\n",
       " '#coffeelove',\n",
       " '#coffeelife',\n",
       " '#coffeeconnoisseurs',\n",
       " '#coffeeofinstagram',\n",
       " '#ARAKUTasteTest',\n",
       " '#arakucoffee',\n",
       " '#specialitycoffee',\n",
       " '#tastetest',\n",
       " '#makeyourpick',\n",
       " '#coffee',\n",
       " '#coffeelover',\n",
       " '#coffeelove',\n",
       " '#coffeelife',\n",
       " '#coffeeconnoisseurs',\n",
       " '#coffeeofinstagram',\n",
       " '#InternationalCoffeeDay',\n",
       " '#InternationalCoffeeDay',\n",
       " '#delhifoodguide',\n",
       " '#delhifoodguide',\n",
       " '#delhifoodguide',\n",
       " '#delhifoodguide',\n",
       " '#delhifoodguide',\n",
       " '#delhifoodguide',\n",
       " '#delhifoodguide',\n",
       " '#delhifoodguide',\n",
       " '#delhifoodguide',\n",
       " '#delhifoodguide',\n",
       " '#heresmyfood',\n",
       " '#heresmyfood',\n",
       " '#heresmyfood',\n",
       " '#heresmyfood',\n",
       " '#heresmyfood',\n",
       " '#heresmyfood',\n",
       " '#heresmyfood',\n",
       " '#heresmyfood',\n",
       " '#heresmyfood',\n",
       " '#heresmyfood',\n",
       " '#carrotcake',\n",
       " '#recipevideo',\n",
       " '#foodgasm',\n",
       " '#gourmet',\n",
       " '#southdelhi',\n",
       " '#homecooking',\n",
       " '#vegan',\n",
       " '#recetasvegetarianas',\n",
       " '#veganworld',\n",
       " '#vegancooking',\n",
       " '#chocolatecake',\n",
       " '#americanfood',\n",
       " '#indianinfluencer',\n",
       " '#microwavefood',\n",
       " '#foodblogger',\n",
       " '#dessert',\n",
       " '#healthyfood',\n",
       " '#brunch',\n",
       " '#delhifoodie',\n",
       " '#delhifood',\n",
       " '#dessertlover',\n",
       " '#delhifoodblogger',\n",
       " '#southdelhi',\n",
       " '#delhidiaries',\n",
       " '#eeeeeats',\n",
       " '#americanfood',\n",
       " '#veganworldshare',\n",
       " '#pancakes',\n",
       " '#delhilifestyleblogger',\n",
       " '#videorecipe',\n",
       " '#america',\n",
       " '#googlelocalguides',\n",
       " '#recipevideo',\n",
       " '#foodgasm',\n",
       " '#sabudana',\n",
       " '#vsco',\n",
       " '#recetasvegetarianas',\n",
       " '#sabudanakhichdi',\n",
       " '#buzzfeedfood',\n",
       " '#kolkatagram',\n",
       " '#mumbai',\n",
       " '#kerala',\n",
       " '#eeeeeats',\n",
       " '#sodelhi',\n",
       " '#veganworldshare',\n",
       " '#delhifoodblog',\n",
       " '#lbb',\n",
       " '#hotforfood',\n",
       " '#kolkata',\n",
       " '#receitavegetariana',\n",
       " '#recetas',\n",
       " '#zingyzest',\n",
       " '#lbbdelhi',\n",
       " '#chennaifoodblogger',\n",
       " '#delhifoodblogger',\n",
       " '#delhigram',\n",
       " '#delhistreetfood',\n",
       " '#bangalore',\n",
       " '#f52grams',\n",
       " '#mumbaifoodie',\n",
       " '#maharashtra',\n",
       " '#videorecipes',\n",
       " '#recipevideo',\n",
       " '#reelsinstagram',\n",
       " '#reelsindia',\n",
       " '#reelitin',\n",
       " '#instantnoodles',\n",
       " '#indianfood',\n",
       " '#magginoodles',\n",
       " '#india',\n",
       " '#vegan',\n",
       " '#foodphotography',\n",
       " '#foodlover',\n",
       " '#hotforfood',\n",
       " '#eeeeeats',\n",
       " '#foodblogger',\n",
       " '#delhifoodblogger',\n",
       " '#healthyfood',\n",
       " '#noida',\n",
       " '#foods',\n",
       " '#chillipotato',\n",
       " '#vegan',\n",
       " '#studentblogger',\n",
       " '#northindianfood',\n",
       " '#googlelocalguides',\n",
       " '#delhifoodblogger',\n",
       " '#buzzfeedfood',\n",
       " '#delhistreetfood',\n",
       " '#foodblog',\n",
       " '#delhifood',\n",
       " '#homecooking',\n",
       " '#indianstreetfood',\n",
       " '#fusionfood',\n",
       " '#pasta',\n",
       " '#sodelhi',\n",
       " '#newdelhi',\n",
       " '#foodtalkindia',\n",
       " '#cheesy',\n",
       " '#delhigram',\n",
       " '#lifestyleblogger',\n",
       " '#pizza',\n",
       " '#cheese',\n",
       " '#veganworldshare',\n",
       " '#dominos',\n",
       " '#pizzas',\n",
       " '#garlicbread',\n",
       " '#indianfood',\n",
       " '#sodelhi',\n",
       " '#delhifoodblogger',\n",
       " '#delhifoodblog',\n",
       " '#delhistreetfood',\n",
       " '#indianstreetfood',\n",
       " '#italianfood',\n",
       " '#spicyfood',\n",
       " '#foodblogger',\n",
       " '#streetfood',\n",
       " '#southdelhi',\n",
       " '#foodcoma',\n",
       " '#mumbaifoodie',\n",
       " '#studentblogger',\n",
       " '#delhilifestyleblogger',\n",
       " '#foodgasm',\n",
       " '#italy',\n",
       " '#recipevideo',\n",
       " '#foodgasm',\n",
       " '#lunch',\n",
       " '#recetasvegetarianas',\n",
       " '#hotforfood',\n",
       " '#indianfood',\n",
       " '#receitavegetariana',\n",
       " '#friedrice',\n",
       " '#desifood',\n",
       " '#shotoniphone',\n",
       " '#veganworldshare',\n",
       " '#homecooked',\n",
       " '#foodblogger',\n",
       " '#delhifoodbloggers',\n",
       " '#kolkatagram',\n",
       " '#homemade',\n",
       " '#homecooking',\n",
       " '#eeeeeats',\n",
       " '#veganrecipes',\n",
       " '#punjabifood',\n",
       " '#southdelhi',\n",
       " '#pulao',\n",
       " '#delhifoodblogger',\n",
       " '#pulav',\n",
       " '#bangalore',\n",
       " '#biryanilovers',\n",
       " '#videorecipes',\n",
       " '#friedricerecipe',\n",
       " '#lunchgoals',\n",
       " '#MumbaiFoodBlogger',\n",
       " '#sambhar',\n",
       " '#recipevideo',\n",
       " '#reelsinstagram',\n",
       " '#reelitin',\n",
       " '#reelsinstagram',\n",
       " '#foodgasm',\n",
       " '#hotforfood',\n",
       " '#studentblogger',\n",
       " '#karnataka',\n",
       " '#buzzfeedfood',\n",
       " '#idli',\n",
       " '#mumbai',\n",
       " '#idlisambar',\n",
       " '#recetasvegetarianas',\n",
       " '#sambhar',\n",
       " '#foodblogger',\n",
       " '#delhifoodblog',\n",
       " '#healthyfood',\n",
       " '#southindianfood',\n",
       " '#receitavegetariana',\n",
       " '#lbbdelhi',\n",
       " '#chennaifoodie',\n",
       " '#bangalorefoodies',\n",
       " '#southindianfood',\n",
       " '#tamilnadu',\n",
       " '#delhifoodblogger',\n",
       " '#dosa',\n",
       " '#delhistreetfood',\n",
       " '#southindian',\n",
       " '#foodgasm',\n",
       " '#noodles',\n",
       " '#mumbaifoodie',\n",
       " '#instantnoodles',\n",
       " '#indianfood',\n",
       " '#magginoodles',\n",
       " '#india',\n",
       " '#vegan',\n",
       " '#foodphotography',\n",
       " '#foodlover',\n",
       " '#hotforfood',\n",
       " '#eeeeeats',\n",
       " '#foodblogger',\n",
       " '#delhifoodblogger',\n",
       " '#healthyfood',\n",
       " '#noida',\n",
       " '#foods',\n",
       " '#chillipotato',\n",
       " '#vegan',\n",
       " '#studentblogger',\n",
       " '#northindianfood',\n",
       " '#googlelocalguides',\n",
       " '#delhifoodblogger',\n",
       " '#buzzfeedfood',\n",
       " '#delhistreetfood',\n",
       " '#foodblog',\n",
       " '#delhifood',\n",
       " '#homecooking',\n",
       " '#indianstreetfood',\n",
       " '#fusionfood',\n",
       " '#foodgasm',\n",
       " '#kerala',\n",
       " '#malabar',\n",
       " '#foodpic',\n",
       " '#indianfood',\n",
       " '#buzzfeedfood',\n",
       " '#idli',\n",
       " '#vegan',\n",
       " '#foodphotography',\n",
       " '#foodlover',\n",
       " '#tasty',\n",
       " '#lunchgoals',\n",
       " '#foodblogger',\n",
       " '#delhifoodblogger',\n",
       " '#healthyfood',\n",
       " '#homemade',\n",
       " '#homecooking',\n",
       " '#healthyfood',\n",
       " '#vegan',\n",
       " '#streetfood',\n",
       " '#southindianfood',\n",
       " '#sambhar',\n",
       " '#delhifoodblogger',\n",
       " '#dosa',\n",
       " '#delhistreetfood',\n",
       " '#vegancooking',\n",
       " '#veganworldshare',\n",
       " '#appam',\n",
       " '#indianstreetfood',\n",
       " '#indianfood',\n",
       " '#foodgasm',\n",
       " '#noodles',\n",
       " '#mumbaifoodie',\n",
       " '#khaosoi',\n",
       " '#indianfood',\n",
       " '#delhilifestyleblogger',\n",
       " '#india',\n",
       " '#vegan',\n",
       " '#foodphotography',\n",
       " '#f52grams',\n",
       " '#hotforfood',\n",
       " '#eeeeeats',\n",
       " '#foodblogger',\n",
       " '#delhifoodblogger',\n",
       " '#healthyfood',\n",
       " '#noida',\n",
       " '#foods',\n",
       " '#kolkatagram',\n",
       " '#vegan',\n",
       " '#studentblogger',\n",
       " '#flashesofdelight',\n",
       " '#kolkatadiaries',\n",
       " '#delhifoodblogger',\n",
       " '#buzzfeedfood',\n",
       " '#fashionblogger',\n",
       " '#delhibeautyblogger',\n",
       " '#delhifood',\n",
       " '#veganworldshare',\n",
       " '#khaosuey',\n",
       " '#fusionfood',\n",
       " '#recipevideo',\n",
       " '#sambhar',\n",
       " '#foodgasm',\n",
       " '#hotforfood',\n",
       " '#studentblogger',\n",
       " '#karnataka',\n",
       " '#buzzfeedfood',\n",
       " '#idli',\n",
       " '#mumbai',\n",
       " '#idlisambar',\n",
       " '#recetasvegetarianas',\n",
       " '#sambhar',\n",
       " '#foodblogger',\n",
       " '#delhifoodblog',\n",
       " '#healthyfood',\n",
       " '#southindianfood',\n",
       " '#receitavegetariana',\n",
       " '#lbbdelhi',\n",
       " '#chennaifoodie',\n",
       " '#bangalorefoodies',\n",
       " '#southindianfood',\n",
       " '#tamilnadu',\n",
       " '#delhifoodblogger',\n",
       " '#dosa',\n",
       " '#delhistreetfood',\n",
       " '#southindian',\n",
       " '#veganworldshare',\n",
       " '#mumbaifoodie',\n",
       " '#idlis',\n",
       " '#simplemealsfancyfeels']"
      ]
     },
     "execution_count": 20,
     "metadata": {},
     "output_type": "execute_result"
    }
   ],
   "source": [
    "hashtag_lis\n"
   ]
  },
  {
   "cell_type": "code",
   "execution_count": 21,
   "metadata": {},
   "outputs": [],
   "source": [
    "hashtag_dic ={}\n",
    "for i in hashtag_lis:\n",
    "    hashtag_dic[i] = hashtag_dic.get(i,0)+1"
   ]
  },
  {
   "cell_type": "code",
   "execution_count": 22,
   "metadata": {},
   "outputs": [
    {
     "data": {
      "text/plain": [
       "{'#YouTubeCreatorAwards': 1,\n",
       " '#recipes': 3,\n",
       " '#chicken': 1,\n",
       " '#chickensofinstagram': 1,\n",
       " '#chickenwings': 1,\n",
       " '#chickenrecipes': 1,\n",
       " '#chickenlover': 1,\n",
       " '#chickenlollipop': 1,\n",
       " '#foodstylist': 1,\n",
       " '#mumbaistreetfood': 2,\n",
       " '#sanjyotkeer': 6,\n",
       " '#mouthwateringfood': 1,\n",
       " '#recipe': 5,\n",
       " '#foodiesofinstagram': 5,\n",
       " '#streetfood': 8,\n",
       " '#wontons': 1,\n",
       " '#foodstyling': 1,\n",
       " '#instagram': 1,\n",
       " '#foodporn': 3,\n",
       " '#soupseason': 1,\n",
       " '#souprecipe': 1,\n",
       " '#flatlaysoftheday': 1,\n",
       " '#flatlaysquad': 1,\n",
       " '#flatlays': 1,\n",
       " '#flatlaystyles': 1,\n",
       " '#flatlayphotography': 1,\n",
       " '#aesthetic': 1,\n",
       " '#wontonsoup': 2,\n",
       " '#punediaries': 1,\n",
       " '#maharashtra_igers': 1,\n",
       " '#maharashtra_ig': 1,\n",
       " '#pintrest': 1,\n",
       " '#foodforfoodies': 1,\n",
       " '#souplover': 1,\n",
       " '#foodie': 3,\n",
       " '#indiancuisine': 3,\n",
       " '#streetfoodindia': 1,\n",
       " '#foodstagram': 1,\n",
       " '#paratha': 1,\n",
       " '#alooparatha': 1,\n",
       " '#yummilicious': 1,\n",
       " '#parathas': 1,\n",
       " '#breakfastideas': 1,\n",
       " '#homemadefood': 1,\n",
       " '#favouritemarathidish': 1,\n",
       " '#monsoons': 1,\n",
       " '#sinhagadfort': 1,\n",
       " '#foodphotography': 5,\n",
       " '#foodsofinstagram': 1,\n",
       " '#indian': 1,\n",
       " '#mumbai': 4,\n",
       " '#foodpics': 1,\n",
       " '#streetfoods': 1,\n",
       " '#comfortfood': 1,\n",
       " '#soyachaap': 2,\n",
       " '#food': 1,\n",
       " '#deliciousfood': 1,\n",
       " '#mumbaifoodie': 6,\n",
       " '#cooking': 1,\n",
       " '#TalkRecipe': 1,\n",
       " '#ARAKUTasteTest': 2,\n",
       " '#arakucoffee': 2,\n",
       " '#specialitycoffee': 2,\n",
       " '#tastetest': 2,\n",
       " '#makeyourpick': 2,\n",
       " '#coffee': 2,\n",
       " '#coffeelover': 2,\n",
       " '#coffeelove': 2,\n",
       " '#coffeelife': 2,\n",
       " '#coffeeconnoisseurs': 2,\n",
       " '#coffeeofinstagram': 2,\n",
       " '#InternationalCoffeeDay': 2,\n",
       " '#delhifoodguide': 10,\n",
       " '#heresmyfood': 10,\n",
       " '#carrotcake': 1,\n",
       " '#recipevideo': 6,\n",
       " '#foodgasm': 9,\n",
       " '#gourmet': 1,\n",
       " '#southdelhi': 4,\n",
       " '#homecooking': 5,\n",
       " '#vegan': 9,\n",
       " '#recetasvegetarianas': 5,\n",
       " '#veganworld': 1,\n",
       " '#vegancooking': 2,\n",
       " '#chocolatecake': 1,\n",
       " '#americanfood': 2,\n",
       " '#indianinfluencer': 1,\n",
       " '#microwavefood': 1,\n",
       " '#foodblogger': 9,\n",
       " '#dessert': 1,\n",
       " '#healthyfood': 8,\n",
       " '#brunch': 1,\n",
       " '#delhifoodie': 1,\n",
       " '#delhifood': 4,\n",
       " '#dessertlover': 1,\n",
       " '#delhifoodblogger': 14,\n",
       " '#delhidiaries': 1,\n",
       " '#eeeeeats': 6,\n",
       " '#veganworldshare': 7,\n",
       " '#pancakes': 1,\n",
       " '#delhilifestyleblogger': 3,\n",
       " '#videorecipe': 1,\n",
       " '#america': 1,\n",
       " '#googlelocalguides': 3,\n",
       " '#sabudana': 1,\n",
       " '#vsco': 1,\n",
       " '#sabudanakhichdi': 1,\n",
       " '#buzzfeedfood': 7,\n",
       " '#kolkatagram': 3,\n",
       " '#kerala': 2,\n",
       " '#sodelhi': 3,\n",
       " '#delhifoodblog': 4,\n",
       " '#lbb': 1,\n",
       " '#hotforfood': 7,\n",
       " '#kolkata': 1,\n",
       " '#receitavegetariana': 4,\n",
       " '#recetas': 1,\n",
       " '#zingyzest': 1,\n",
       " '#lbbdelhi': 3,\n",
       " '#chennaifoodblogger': 1,\n",
       " '#delhigram': 2,\n",
       " '#delhistreetfood': 7,\n",
       " '#bangalore': 2,\n",
       " '#f52grams': 2,\n",
       " '#maharashtra': 1,\n",
       " '#videorecipes': 2,\n",
       " '#reelsinstagram': 3,\n",
       " '#reelsindia': 1,\n",
       " '#reelitin': 2,\n",
       " '#instantnoodles': 2,\n",
       " '#indianfood': 7,\n",
       " '#magginoodles': 2,\n",
       " '#india': 3,\n",
       " '#foodlover': 3,\n",
       " '#noida': 3,\n",
       " '#foods': 3,\n",
       " '#chillipotato': 2,\n",
       " '#studentblogger': 6,\n",
       " '#northindianfood': 2,\n",
       " '#foodblog': 2,\n",
       " '#indianstreetfood': 4,\n",
       " '#fusionfood': 3,\n",
       " '#pasta': 1,\n",
       " '#newdelhi': 1,\n",
       " '#foodtalkindia': 1,\n",
       " '#cheesy': 1,\n",
       " '#lifestyleblogger': 1,\n",
       " '#pizza': 1,\n",
       " '#cheese': 1,\n",
       " '#dominos': 1,\n",
       " '#pizzas': 1,\n",
       " '#garlicbread': 1,\n",
       " '#italianfood': 1,\n",
       " '#spicyfood': 1,\n",
       " '#foodcoma': 1,\n",
       " '#italy': 1,\n",
       " '#lunch': 1,\n",
       " '#friedrice': 1,\n",
       " '#desifood': 1,\n",
       " '#shotoniphone': 1,\n",
       " '#homecooked': 1,\n",
       " '#delhifoodbloggers': 1,\n",
       " '#homemade': 2,\n",
       " '#veganrecipes': 1,\n",
       " '#punjabifood': 1,\n",
       " '#pulao': 1,\n",
       " '#pulav': 1,\n",
       " '#biryanilovers': 1,\n",
       " '#friedricerecipe': 1,\n",
       " '#lunchgoals': 2,\n",
       " '#MumbaiFoodBlogger': 1,\n",
       " '#sambhar': 5,\n",
       " '#karnataka': 2,\n",
       " '#idli': 3,\n",
       " '#idlisambar': 2,\n",
       " '#southindianfood': 5,\n",
       " '#chennaifoodie': 2,\n",
       " '#bangalorefoodies': 2,\n",
       " '#tamilnadu': 2,\n",
       " '#dosa': 3,\n",
       " '#southindian': 2,\n",
       " '#noodles': 2,\n",
       " '#malabar': 1,\n",
       " '#foodpic': 1,\n",
       " '#tasty': 1,\n",
       " '#appam': 1,\n",
       " '#khaosoi': 1,\n",
       " '#flashesofdelight': 1,\n",
       " '#kolkatadiaries': 1,\n",
       " '#fashionblogger': 1,\n",
       " '#delhibeautyblogger': 1,\n",
       " '#khaosuey': 1,\n",
       " '#idlis': 1,\n",
       " '#simplemealsfancyfeels': 1}"
      ]
     },
     "execution_count": 22,
     "metadata": {},
     "output_type": "execute_result"
    }
   ],
   "source": [
    "hashtag_dic"
   ]
  },
  {
   "cell_type": "code",
   "execution_count": 23,
   "metadata": {},
   "outputs": [
    {
     "data": {
      "text/plain": [
       "{'#delhifoodblogger': 14,\n",
       " '#delhifoodguide': 10,\n",
       " '#heresmyfood': 10,\n",
       " '#foodgasm': 9,\n",
       " '#vegan': 9,\n",
       " '#foodblogger': 9,\n",
       " '#streetfood': 8,\n",
       " '#healthyfood': 8,\n",
       " '#veganworldshare': 7,\n",
       " '#buzzfeedfood': 7,\n",
       " '#hotforfood': 7,\n",
       " '#delhistreetfood': 7,\n",
       " '#indianfood': 7,\n",
       " '#sanjyotkeer': 6,\n",
       " '#mumbaifoodie': 6,\n",
       " '#recipevideo': 6,\n",
       " '#eeeeeats': 6,\n",
       " '#studentblogger': 6,\n",
       " '#recipe': 5,\n",
       " '#foodiesofinstagram': 5,\n",
       " '#foodphotography': 5,\n",
       " '#homecooking': 5,\n",
       " '#recetasvegetarianas': 5,\n",
       " '#sambhar': 5,\n",
       " '#southindianfood': 5,\n",
       " '#mumbai': 4,\n",
       " '#southdelhi': 4,\n",
       " '#delhifood': 4,\n",
       " '#delhifoodblog': 4,\n",
       " '#receitavegetariana': 4,\n",
       " '#indianstreetfood': 4,\n",
       " '#recipes': 3,\n",
       " '#foodporn': 3,\n",
       " '#foodie': 3,\n",
       " '#indiancuisine': 3,\n",
       " '#delhilifestyleblogger': 3,\n",
       " '#googlelocalguides': 3,\n",
       " '#kolkatagram': 3,\n",
       " '#sodelhi': 3,\n",
       " '#lbbdelhi': 3,\n",
       " '#reelsinstagram': 3,\n",
       " '#india': 3,\n",
       " '#foodlover': 3,\n",
       " '#noida': 3,\n",
       " '#foods': 3,\n",
       " '#fusionfood': 3,\n",
       " '#idli': 3,\n",
       " '#dosa': 3,\n",
       " '#mumbaistreetfood': 2,\n",
       " '#wontonsoup': 2,\n",
       " '#soyachaap': 2,\n",
       " '#ARAKUTasteTest': 2,\n",
       " '#arakucoffee': 2,\n",
       " '#specialitycoffee': 2,\n",
       " '#tastetest': 2,\n",
       " '#makeyourpick': 2,\n",
       " '#coffee': 2,\n",
       " '#coffeelover': 2,\n",
       " '#coffeelove': 2,\n",
       " '#coffeelife': 2,\n",
       " '#coffeeconnoisseurs': 2,\n",
       " '#coffeeofinstagram': 2,\n",
       " '#InternationalCoffeeDay': 2,\n",
       " '#vegancooking': 2,\n",
       " '#americanfood': 2,\n",
       " '#kerala': 2,\n",
       " '#delhigram': 2,\n",
       " '#bangalore': 2,\n",
       " '#f52grams': 2,\n",
       " '#videorecipes': 2,\n",
       " '#reelitin': 2,\n",
       " '#instantnoodles': 2,\n",
       " '#magginoodles': 2,\n",
       " '#chillipotato': 2,\n",
       " '#northindianfood': 2,\n",
       " '#foodblog': 2,\n",
       " '#homemade': 2,\n",
       " '#lunchgoals': 2,\n",
       " '#karnataka': 2,\n",
       " '#idlisambar': 2,\n",
       " '#chennaifoodie': 2,\n",
       " '#bangalorefoodies': 2,\n",
       " '#tamilnadu': 2,\n",
       " '#southindian': 2,\n",
       " '#noodles': 2,\n",
       " '#YouTubeCreatorAwards': 1,\n",
       " '#chicken': 1,\n",
       " '#chickensofinstagram': 1,\n",
       " '#chickenwings': 1,\n",
       " '#chickenrecipes': 1,\n",
       " '#chickenlover': 1,\n",
       " '#chickenlollipop': 1,\n",
       " '#foodstylist': 1,\n",
       " '#mouthwateringfood': 1,\n",
       " '#wontons': 1,\n",
       " '#foodstyling': 1,\n",
       " '#instagram': 1,\n",
       " '#soupseason': 1,\n",
       " '#souprecipe': 1,\n",
       " '#flatlaysoftheday': 1,\n",
       " '#flatlaysquad': 1,\n",
       " '#flatlays': 1,\n",
       " '#flatlaystyles': 1,\n",
       " '#flatlayphotography': 1,\n",
       " '#aesthetic': 1,\n",
       " '#punediaries': 1,\n",
       " '#maharashtra_igers': 1,\n",
       " '#maharashtra_ig': 1,\n",
       " '#pintrest': 1,\n",
       " '#foodforfoodies': 1,\n",
       " '#souplover': 1,\n",
       " '#streetfoodindia': 1,\n",
       " '#foodstagram': 1,\n",
       " '#paratha': 1,\n",
       " '#alooparatha': 1,\n",
       " '#yummilicious': 1,\n",
       " '#parathas': 1,\n",
       " '#breakfastideas': 1,\n",
       " '#homemadefood': 1,\n",
       " '#favouritemarathidish': 1,\n",
       " '#monsoons': 1,\n",
       " '#sinhagadfort': 1,\n",
       " '#foodsofinstagram': 1,\n",
       " '#indian': 1,\n",
       " '#foodpics': 1,\n",
       " '#streetfoods': 1,\n",
       " '#comfortfood': 1,\n",
       " '#food': 1,\n",
       " '#deliciousfood': 1,\n",
       " '#cooking': 1,\n",
       " '#TalkRecipe': 1,\n",
       " '#carrotcake': 1,\n",
       " '#gourmet': 1,\n",
       " '#veganworld': 1,\n",
       " '#chocolatecake': 1,\n",
       " '#indianinfluencer': 1,\n",
       " '#microwavefood': 1,\n",
       " '#dessert': 1,\n",
       " '#brunch': 1,\n",
       " '#delhifoodie': 1,\n",
       " '#dessertlover': 1,\n",
       " '#delhidiaries': 1,\n",
       " '#pancakes': 1,\n",
       " '#videorecipe': 1,\n",
       " '#america': 1,\n",
       " '#sabudana': 1,\n",
       " '#vsco': 1,\n",
       " '#sabudanakhichdi': 1,\n",
       " '#lbb': 1,\n",
       " '#kolkata': 1,\n",
       " '#recetas': 1,\n",
       " '#zingyzest': 1,\n",
       " '#chennaifoodblogger': 1,\n",
       " '#maharashtra': 1,\n",
       " '#reelsindia': 1,\n",
       " '#pasta': 1,\n",
       " '#newdelhi': 1,\n",
       " '#foodtalkindia': 1,\n",
       " '#cheesy': 1,\n",
       " '#lifestyleblogger': 1,\n",
       " '#pizza': 1,\n",
       " '#cheese': 1,\n",
       " '#dominos': 1,\n",
       " '#pizzas': 1,\n",
       " '#garlicbread': 1,\n",
       " '#italianfood': 1,\n",
       " '#spicyfood': 1,\n",
       " '#foodcoma': 1,\n",
       " '#italy': 1,\n",
       " '#lunch': 1,\n",
       " '#friedrice': 1,\n",
       " '#desifood': 1,\n",
       " '#shotoniphone': 1,\n",
       " '#homecooked': 1,\n",
       " '#delhifoodbloggers': 1,\n",
       " '#veganrecipes': 1,\n",
       " '#punjabifood': 1,\n",
       " '#pulao': 1,\n",
       " '#pulav': 1,\n",
       " '#biryanilovers': 1,\n",
       " '#friedricerecipe': 1,\n",
       " '#MumbaiFoodBlogger': 1,\n",
       " '#malabar': 1,\n",
       " '#foodpic': 1,\n",
       " '#tasty': 1,\n",
       " '#appam': 1,\n",
       " '#khaosoi': 1,\n",
       " '#flashesofdelight': 1,\n",
       " '#kolkatadiaries': 1,\n",
       " '#fashionblogger': 1,\n",
       " '#delhibeautyblogger': 1,\n",
       " '#khaosuey': 1,\n",
       " '#idlis': 1,\n",
       " '#simplemealsfancyfeels': 1}"
      ]
     },
     "execution_count": 23,
     "metadata": {},
     "output_type": "execute_result"
    }
   ],
   "source": [
    "res = dict(sorted(hashtag_dic.items(), key = itemgetter(1), reverse = True))\n",
    "res"
   ]
  },
  {
   "cell_type": "code",
   "execution_count": 24,
   "metadata": {},
   "outputs": [],
   "source": [
    "main_lis = []\n",
    "for i in res:\n",
    "    temp = []\n",
    "    temp.append(i)\n",
    "    temp.append(res[i])\n",
    "    main_lis.append(temp)"
   ]
  },
  {
   "cell_type": "code",
   "execution_count": 25,
   "metadata": {},
   "outputs": [
    {
     "data": {
      "text/plain": [
       "[['#delhifoodblogger', 14],\n",
       " ['#delhifoodguide', 10],\n",
       " ['#heresmyfood', 10],\n",
       " ['#foodgasm', 9],\n",
       " ['#vegan', 9],\n",
       " ['#foodblogger', 9],\n",
       " ['#streetfood', 8],\n",
       " ['#healthyfood', 8],\n",
       " ['#veganworldshare', 7],\n",
       " ['#buzzfeedfood', 7],\n",
       " ['#hotforfood', 7],\n",
       " ['#delhistreetfood', 7],\n",
       " ['#indianfood', 7],\n",
       " ['#sanjyotkeer', 6],\n",
       " ['#mumbaifoodie', 6],\n",
       " ['#recipevideo', 6],\n",
       " ['#eeeeeats', 6],\n",
       " ['#studentblogger', 6],\n",
       " ['#recipe', 5],\n",
       " ['#foodiesofinstagram', 5],\n",
       " ['#foodphotography', 5],\n",
       " ['#homecooking', 5],\n",
       " ['#recetasvegetarianas', 5],\n",
       " ['#sambhar', 5],\n",
       " ['#southindianfood', 5],\n",
       " ['#mumbai', 4],\n",
       " ['#southdelhi', 4],\n",
       " ['#delhifood', 4],\n",
       " ['#delhifoodblog', 4],\n",
       " ['#receitavegetariana', 4],\n",
       " ['#indianstreetfood', 4],\n",
       " ['#recipes', 3],\n",
       " ['#foodporn', 3],\n",
       " ['#foodie', 3],\n",
       " ['#indiancuisine', 3],\n",
       " ['#delhilifestyleblogger', 3],\n",
       " ['#googlelocalguides', 3],\n",
       " ['#kolkatagram', 3],\n",
       " ['#sodelhi', 3],\n",
       " ['#lbbdelhi', 3],\n",
       " ['#reelsinstagram', 3],\n",
       " ['#india', 3],\n",
       " ['#foodlover', 3],\n",
       " ['#noida', 3],\n",
       " ['#foods', 3],\n",
       " ['#fusionfood', 3],\n",
       " ['#idli', 3],\n",
       " ['#dosa', 3],\n",
       " ['#mumbaistreetfood', 2],\n",
       " ['#wontonsoup', 2],\n",
       " ['#soyachaap', 2],\n",
       " ['#ARAKUTasteTest', 2],\n",
       " ['#arakucoffee', 2],\n",
       " ['#specialitycoffee', 2],\n",
       " ['#tastetest', 2],\n",
       " ['#makeyourpick', 2],\n",
       " ['#coffee', 2],\n",
       " ['#coffeelover', 2],\n",
       " ['#coffeelove', 2],\n",
       " ['#coffeelife', 2],\n",
       " ['#coffeeconnoisseurs', 2],\n",
       " ['#coffeeofinstagram', 2],\n",
       " ['#InternationalCoffeeDay', 2],\n",
       " ['#vegancooking', 2],\n",
       " ['#americanfood', 2],\n",
       " ['#kerala', 2],\n",
       " ['#delhigram', 2],\n",
       " ['#bangalore', 2],\n",
       " ['#f52grams', 2],\n",
       " ['#videorecipes', 2],\n",
       " ['#reelitin', 2],\n",
       " ['#instantnoodles', 2],\n",
       " ['#magginoodles', 2],\n",
       " ['#chillipotato', 2],\n",
       " ['#northindianfood', 2],\n",
       " ['#foodblog', 2],\n",
       " ['#homemade', 2],\n",
       " ['#lunchgoals', 2],\n",
       " ['#karnataka', 2],\n",
       " ['#idlisambar', 2],\n",
       " ['#chennaifoodie', 2],\n",
       " ['#bangalorefoodies', 2],\n",
       " ['#tamilnadu', 2],\n",
       " ['#southindian', 2],\n",
       " ['#noodles', 2],\n",
       " ['#YouTubeCreatorAwards', 1],\n",
       " ['#chicken', 1],\n",
       " ['#chickensofinstagram', 1],\n",
       " ['#chickenwings', 1],\n",
       " ['#chickenrecipes', 1],\n",
       " ['#chickenlover', 1],\n",
       " ['#chickenlollipop', 1],\n",
       " ['#foodstylist', 1],\n",
       " ['#mouthwateringfood', 1],\n",
       " ['#wontons', 1],\n",
       " ['#foodstyling', 1],\n",
       " ['#instagram', 1],\n",
       " ['#soupseason', 1],\n",
       " ['#souprecipe', 1],\n",
       " ['#flatlaysoftheday', 1],\n",
       " ['#flatlaysquad', 1],\n",
       " ['#flatlays', 1],\n",
       " ['#flatlaystyles', 1],\n",
       " ['#flatlayphotography', 1],\n",
       " ['#aesthetic', 1],\n",
       " ['#punediaries', 1],\n",
       " ['#maharashtra_igers', 1],\n",
       " ['#maharashtra_ig', 1],\n",
       " ['#pintrest', 1],\n",
       " ['#foodforfoodies', 1],\n",
       " ['#souplover', 1],\n",
       " ['#streetfoodindia', 1],\n",
       " ['#foodstagram', 1],\n",
       " ['#paratha', 1],\n",
       " ['#alooparatha', 1],\n",
       " ['#yummilicious', 1],\n",
       " ['#parathas', 1],\n",
       " ['#breakfastideas', 1],\n",
       " ['#homemadefood', 1],\n",
       " ['#favouritemarathidish', 1],\n",
       " ['#monsoons', 1],\n",
       " ['#sinhagadfort', 1],\n",
       " ['#foodsofinstagram', 1],\n",
       " ['#indian', 1],\n",
       " ['#foodpics', 1],\n",
       " ['#streetfoods', 1],\n",
       " ['#comfortfood', 1],\n",
       " ['#food', 1],\n",
       " ['#deliciousfood', 1],\n",
       " ['#cooking', 1],\n",
       " ['#TalkRecipe', 1],\n",
       " ['#carrotcake', 1],\n",
       " ['#gourmet', 1],\n",
       " ['#veganworld', 1],\n",
       " ['#chocolatecake', 1],\n",
       " ['#indianinfluencer', 1],\n",
       " ['#microwavefood', 1],\n",
       " ['#dessert', 1],\n",
       " ['#brunch', 1],\n",
       " ['#delhifoodie', 1],\n",
       " ['#dessertlover', 1],\n",
       " ['#delhidiaries', 1],\n",
       " ['#pancakes', 1],\n",
       " ['#videorecipe', 1],\n",
       " ['#america', 1],\n",
       " ['#sabudana', 1],\n",
       " ['#vsco', 1],\n",
       " ['#sabudanakhichdi', 1],\n",
       " ['#lbb', 1],\n",
       " ['#kolkata', 1],\n",
       " ['#recetas', 1],\n",
       " ['#zingyzest', 1],\n",
       " ['#chennaifoodblogger', 1],\n",
       " ['#maharashtra', 1],\n",
       " ['#reelsindia', 1],\n",
       " ['#pasta', 1],\n",
       " ['#newdelhi', 1],\n",
       " ['#foodtalkindia', 1],\n",
       " ['#cheesy', 1],\n",
       " ['#lifestyleblogger', 1],\n",
       " ['#pizza', 1],\n",
       " ['#cheese', 1],\n",
       " ['#dominos', 1],\n",
       " ['#pizzas', 1],\n",
       " ['#garlicbread', 1],\n",
       " ['#italianfood', 1],\n",
       " ['#spicyfood', 1],\n",
       " ['#foodcoma', 1],\n",
       " ['#italy', 1],\n",
       " ['#lunch', 1],\n",
       " ['#friedrice', 1],\n",
       " ['#desifood', 1],\n",
       " ['#shotoniphone', 1],\n",
       " ['#homecooked', 1],\n",
       " ['#delhifoodbloggers', 1],\n",
       " ['#veganrecipes', 1],\n",
       " ['#punjabifood', 1],\n",
       " ['#pulao', 1],\n",
       " ['#pulav', 1],\n",
       " ['#biryanilovers', 1],\n",
       " ['#friedricerecipe', 1],\n",
       " ['#MumbaiFoodBlogger', 1],\n",
       " ['#malabar', 1],\n",
       " ['#foodpic', 1],\n",
       " ['#tasty', 1],\n",
       " ['#appam', 1],\n",
       " ['#khaosoi', 1],\n",
       " ['#flashesofdelight', 1],\n",
       " ['#kolkatadiaries', 1],\n",
       " ['#fashionblogger', 1],\n",
       " ['#delhibeautyblogger', 1],\n",
       " ['#khaosuey', 1],\n",
       " ['#idlis', 1],\n",
       " ['#simplemealsfancyfeels', 1]]"
      ]
     },
     "execution_count": 25,
     "metadata": {},
     "output_type": "execute_result"
    }
   ],
   "source": [
    "main_lis"
   ]
  },
  {
   "cell_type": "markdown",
   "metadata": {},
   "source": [
    "# Question 2.3"
   ]
  },
  {
   "cell_type": "markdown",
   "metadata": {},
   "source": [
    "•\tCreate list of list for each word and frequency in the dictionary.\n",
    "\n",
    "•\tThen store it into a list\n",
    "\n",
    "•\tUse pandas library to concert this list into a csv file\n",
    "\n",
    "•\tCsv file is stored as hashtag_frequency.csv\n",
    "\n",
    "•\tRemove the indexing in the csv file.\n"
   ]
  },
  {
   "cell_type": "markdown",
   "metadata": {},
   "source": [
    "## Creating Csv file"
   ]
  },
  {
   "cell_type": "code",
   "execution_count": 26,
   "metadata": {},
   "outputs": [
    {
     "data": {
      "text/html": [
       "<div>\n",
       "<style scoped>\n",
       "    .dataframe tbody tr th:only-of-type {\n",
       "        vertical-align: middle;\n",
       "    }\n",
       "\n",
       "    .dataframe tbody tr th {\n",
       "        vertical-align: top;\n",
       "    }\n",
       "\n",
       "    .dataframe thead th {\n",
       "        text-align: right;\n",
       "    }\n",
       "</style>\n",
       "<table border=\"1\" class=\"dataframe\">\n",
       "  <thead>\n",
       "    <tr style=\"text-align: right;\">\n",
       "      <th></th>\n",
       "      <th>Words</th>\n",
       "      <th>Frequency</th>\n",
       "    </tr>\n",
       "  </thead>\n",
       "  <tbody>\n",
       "    <tr>\n",
       "      <th>0</th>\n",
       "      <td>#delhifoodblogger</td>\n",
       "      <td>14</td>\n",
       "    </tr>\n",
       "    <tr>\n",
       "      <th>1</th>\n",
       "      <td>#delhifoodguide</td>\n",
       "      <td>10</td>\n",
       "    </tr>\n",
       "    <tr>\n",
       "      <th>2</th>\n",
       "      <td>#heresmyfood</td>\n",
       "      <td>10</td>\n",
       "    </tr>\n",
       "    <tr>\n",
       "      <th>3</th>\n",
       "      <td>#foodgasm</td>\n",
       "      <td>9</td>\n",
       "    </tr>\n",
       "    <tr>\n",
       "      <th>4</th>\n",
       "      <td>#vegan</td>\n",
       "      <td>9</td>\n",
       "    </tr>\n",
       "    <tr>\n",
       "      <th>...</th>\n",
       "      <td>...</td>\n",
       "      <td>...</td>\n",
       "    </tr>\n",
       "    <tr>\n",
       "      <th>189</th>\n",
       "      <td>#fashionblogger</td>\n",
       "      <td>1</td>\n",
       "    </tr>\n",
       "    <tr>\n",
       "      <th>190</th>\n",
       "      <td>#delhibeautyblogger</td>\n",
       "      <td>1</td>\n",
       "    </tr>\n",
       "    <tr>\n",
       "      <th>191</th>\n",
       "      <td>#khaosuey</td>\n",
       "      <td>1</td>\n",
       "    </tr>\n",
       "    <tr>\n",
       "      <th>192</th>\n",
       "      <td>#idlis</td>\n",
       "      <td>1</td>\n",
       "    </tr>\n",
       "    <tr>\n",
       "      <th>193</th>\n",
       "      <td>#simplemealsfancyfeels</td>\n",
       "      <td>1</td>\n",
       "    </tr>\n",
       "  </tbody>\n",
       "</table>\n",
       "<p>194 rows × 2 columns</p>\n",
       "</div>"
      ],
      "text/plain": [
       "                      Words  Frequency\n",
       "0         #delhifoodblogger         14\n",
       "1           #delhifoodguide         10\n",
       "2              #heresmyfood         10\n",
       "3                 #foodgasm          9\n",
       "4                    #vegan          9\n",
       "..                      ...        ...\n",
       "189         #fashionblogger          1\n",
       "190     #delhibeautyblogger          1\n",
       "191               #khaosuey          1\n",
       "192                  #idlis          1\n",
       "193  #simplemealsfancyfeels          1\n",
       "\n",
       "[194 rows x 2 columns]"
      ]
     },
     "execution_count": 26,
     "metadata": {},
     "output_type": "execute_result"
    }
   ],
   "source": [
    "import pandas as pd\n",
    "csv_file=pd.DataFrame(main_lis,columns=[\"Words\",\"Frequency\"]) ## creating dataframe\n",
    "csv_file.to_csv(\"hashtag_frequency.csv\",index=False)  ## saving dataframe in same directory \n",
    "csv_file"
   ]
  },
  {
   "cell_type": "markdown",
   "metadata": {},
   "source": [
    "# Question 2.4"
   ]
  },
  {
   "cell_type": "markdown",
   "metadata": {},
   "source": [
    "•\tSort the dictionary in descending order using\n",
    "\n",
    "•\tTop 5 frequently used words and their frequency is:\n"
   ]
  },
  {
   "cell_type": "markdown",
   "metadata": {},
   "source": [
    "## top 5 Hashtags"
   ]
  },
  {
   "cell_type": "code",
   "execution_count": 27,
   "metadata": {},
   "outputs": [
    {
     "data": {
      "text/plain": [
       "{'#delhifoodblogger': 14,\n",
       " '#delhifoodguide': 10,\n",
       " '#heresmyfood': 10,\n",
       " '#foodgasm': 9,\n",
       " '#vegan': 9}"
      ]
     },
     "execution_count": 27,
     "metadata": {},
     "output_type": "execute_result"
    }
   ],
   "source": [
    "res1 = dict(sorted(hashtag_dic.items(), key = itemgetter(1), reverse = True)[:5])\n",
    "res1"
   ]
  },
  {
   "cell_type": "code",
   "execution_count": 28,
   "metadata": {},
   "outputs": [],
   "source": [
    "top_5_hashtags =[]\n",
    "top_5_hashtags_freq =[]\n",
    "for i in res1:\n",
    "    top_5_hashtags.append(i)\n",
    "    top_5_hashtags_freq.append(res1[i])"
   ]
  },
  {
   "cell_type": "markdown",
   "metadata": {},
   "source": [
    "# Question 2.5"
   ]
  },
  {
   "cell_type": "code",
   "execution_count": 30,
   "metadata": {},
   "outputs": [
    {
     "data": {
      "image/png": "[encoded data removed]",
      "text/plain": [
       "<Figure size 432x288 with 1 Axes>"
      ]
     },
     "metadata": {},
     "output_type": "display_data"
    }
   ],
   "source": [
    "import matplotlib.pyplot as plt\n",
    "plt.pie(top_5_hashtags_freq,labels =top_5_hashtags,explode = (0.2, 0, 0, 0,0),autopct='%1.1f%%',shadow=True, startangle=90)\n",
    "plt.axis('equal')\n",
    "plt.title(\"HASHTAGS  vs.  % OF USAGE BY FOOD BLOGEERS\")\n",
    "plt.show()"
   ]
  },
  {
   "cell_type": "markdown",
   "metadata": {},
   "source": [
    "# Question 3"
   ]
  },
  {
   "cell_type": "markdown",
   "metadata": {},
   "source": [
    "## Question 3.1"
   ]
  },
  {
   "cell_type": "markdown",
   "metadata": {},
   "source": [
    "•\tOpen the top 5 handles by appending the base address followed by handle name scrape  content of the first 10 posts of each handle.\n",
    "\n",
    "•\tscrape  number o likes  of the first 10 posts of each handle and store it  in a list.\n"
   ]
  },
  {
   "cell_type": "code",
   "execution_count": 31,
   "metadata": {},
   "outputs": [],
   "source": [
    "base_url = 'https://www.instagram.com/'\n",
    "no_of_likes_lis =[]\n",
    "\n",
    "for i in top5_handles:\n",
    "    url = base_url+i+'/'\n",
    "    driver.get(url)\n",
    "    like_post = driver.find_element_by_class_name(\"_9AhH0\")\n",
    "    like_post.click()\n",
    "    no_of_likes_lis1 =[]\n",
    "    for i in range(10):\n",
    "        try:\n",
    "            no_of_likes =driver.find_element_by_css_selector(\"div.Nm9Fw > button.sqdOP.yWX7d._8A5w5 > span\")\n",
    "            temp = no_of_likes.text\n",
    "            temp1 = temp.replace(\",\",\"\")\n",
    "            no_of_likes_lis1.append(int(temp1))\n",
    "            next_page = driver.find_element_by_css_selector('a._65Bje.coreSpriteRightPaginationArrow')\n",
    "            next_page.click()\n",
    "        except (NoSuchElementException ):\n",
    "            next_page = driver.find_element_by_css_selector('a._65Bje.coreSpriteRightPaginationArrow')\n",
    "            next_page.click()\n",
    "    no_of_likes_lis.append(no_of_likes_lis1)\n",
    "    clo = driver.find_element_by_css_selector('div.Igw0E.IwRSH.eGOV_._4EzTm.BI4qX.qJPeX.fm1AK.TxciK.yiMZG')\n",
    "    clo.click()"
   ]
  },
  {
   "cell_type": "code",
   "execution_count": 32,
   "metadata": {},
   "outputs": [
    {
     "data": {
      "text/plain": [
       "[[68464, 34716, 19801, 24807, 26269, 30905],\n",
       " [318, 415, 447, 519, 445, 725, 1986, 591],\n",
       " [832, 785, 1163, 1023, 1539, 924, 1277, 925, 1355, 2877],\n",
       " [1599, 1088, 1597, 1484, 1575, 1855, 1476, 1826],\n",
       " [62, 568, 388, 239, 1164, 219, 513, 276, 293, 372]]"
      ]
     },
     "execution_count": 32,
     "metadata": {},
     "output_type": "execute_result"
    }
   ],
   "source": [
    "no_of_likes_lis"
   ]
  },
  {
   "cell_type": "markdown",
   "metadata": {},
   "source": [
    "## Question 3.2"
   ]
  },
  {
   "cell_type": "markdown",
   "metadata": {},
   "source": [
    "### Average likes post"
   ]
  },
  {
   "cell_type": "markdown",
   "metadata": {},
   "source": [
    "•\tCalculate the sum of the likes received by top 10 post . \n",
    "\n",
    "•\tcalculate the average likes per post by dividing sum of likes received by 10\n",
    "\n",
    "•\tAverage post like of top 5 handles are :\n"
   ]
  },
  {
   "cell_type": "code",
   "execution_count": 33,
   "metadata": {},
   "outputs": [],
   "source": [
    "Average_like_10_post = []\n",
    "for i in no_of_likes_lis:\n",
    "    sum1  = 0\n",
    "    for j in i:\n",
    "        sum1 =sum1+j;\n",
    "    Average_like_10_post.append(sum1/10)"
   ]
  },
  {
   "cell_type": "code",
   "execution_count": 34,
   "metadata": {},
   "outputs": [
    {
     "name": "stdout",
     "output_type": "stream",
     "text": [
      "yourfoodlab 20496.2\n",
      "foodtalkindia 544.6\n",
      "delhifoodguide 1270.0\n",
      "food 1250.0\n",
      "hot_for_food 409.4\n"
     ]
    }
   ],
   "source": [
    "for i in range(len(Average_like_10_post)):\n",
    "    print(top5_handles[i],Average_like_10_post[i])"
   ]
  },
  {
   "cell_type": "markdown",
   "metadata": {},
   "source": [
    "## Question 3.3"
   ]
  },
  {
   "cell_type": "markdown",
   "metadata": {},
   "source": [
    "### Average Follower:Like Ratio"
   ]
  },
  {
   "cell_type": "markdown",
   "metadata": {},
   "source": [
    "•\tDivide the numbers of followers of each handle by the average like for each handle . calculated in the  previous. Ques."
   ]
  },
  {
   "cell_type": "code",
   "execution_count": 35,
   "metadata": {},
   "outputs": [],
   "source": [
    "average_follower_like_ratio = []\n",
    "for i in range(len(Average_like_10_post)):\n",
    "    average_follower_like_ratio.append(top5_handle_followers[i]/Average_like_10_post[i])"
   ]
  },
  {
   "cell_type": "code",
   "execution_count": 36,
   "metadata": {},
   "outputs": [
    {
     "data": {
      "text/plain": [
       "[68.72581258965076,\n",
       " 555.2956298200514,\n",
       " 82.5220472440945,\n",
       " 64.3,\n",
       " 166.19931607230095]"
      ]
     },
     "execution_count": 36,
     "metadata": {},
     "output_type": "execute_result"
    }
   ],
   "source": [
    "average_follower_like_ratio"
   ]
  },
  {
   "cell_type": "code",
   "execution_count": 38,
   "metadata": {},
   "outputs": [
    {
     "name": "stdout",
     "output_type": "stream",
     "text": [
      "yourfoodlab 68.72581258965076\n",
      "foodtalkindia 555.2956298200514\n",
      "delhifoodguide 82.5220472440945\n",
      "food 64.3\n",
      "hot_for_food 166.19931607230095\n"
     ]
    }
   ],
   "source": [
    "for i in range(len(average_follower_like_ratio)):\n",
    "    print(top5_handles[i],average_follower_like_ratio[i])"
   ]
  },
  {
   "cell_type": "markdown",
   "metadata": {},
   "source": [
    "## Question 3.4"
   ]
  },
  {
   "cell_type": "markdown",
   "metadata": {},
   "source": [
    "### Graph Average Follower:Like Ratio"
   ]
  },
  {
   "cell_type": "code",
   "execution_count": 39,
   "metadata": {},
   "outputs": [
    {
     "data": {
      "image/png": "[encoded data removed]",
      "text/plain": [
       "<Figure size 432x288 with 1 Axes>"
      ]
     },
     "metadata": {
      "needs_background": "light"
     },
     "output_type": "display_data"
    }
   ],
   "source": [
    "plt.bar(top5_handles,average_follower_like_ratio,color = \"sienna\",alpha =0.6,edgecolor ='black',width =0.6)\n",
    "plt.grid(color =\"darkgrey\")\n",
    "plt.xticks(rotation =30)\n",
    "plt.xlabel(\"Instagram Handles\")\n",
    "plt.ylabel(\"Average Follower:Like Ratio\")\n",
    "plt.title(\"Average Follower:Like Ratio of top 5 Handles\")\n",
    "plt.show()"
   ]
  },
  {
   "cell_type": "code",
   "execution_count": null,
   "metadata": {},
   "outputs": [],
   "source": []
  }
 ],
 "metadata": {
  "kernelspec": {
   "display_name": "Python 3",
   "language": "python",
   "name": "python3"
  },
  "language_info": {
   "codemirror_mode": {
    "name": "ipython",
    "version": 3
   },
   "file_extension": ".py",
   "mimetype": "text/x-python",
   "name": "python",
   "nbconvert_exporter": "python",
   "pygments_lexer": "ipython3",
   "version": "3.8.3"
  }
 },
 "nbformat": 4,
 "nbformat_minor": 4
}
