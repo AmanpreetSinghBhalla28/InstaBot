{
 "cells": [
  {
   "cell_type": "code",
   "execution_count": 1,
   "metadata": {},
   "outputs": [],
   "source": [
    "from selenium import webdriver\n",
    "from selenium.webdriver.support.ui import WebDriverWait\n",
    "from selenium.common.exceptions import NoSuchElementException\n",
    "from selenium.webdriver.common.by import By \n",
    "from selenium.webdriver.support import expected_conditions as EC\n",
    "import time\n",
    "from selenium.webdriver.common.keys import Keys"
   ]
  },
  {
   "cell_type": "markdown",
   "metadata": {},
   "source": [
    "# Question 1"
   ]
  },
  {
   "cell_type": "markdown",
   "metadata": {},
   "source": [
    "•\tFrom selenium module import webdriver, WebdriverWait, No such Exception,By, keys and Expected Conditions and import time module.\n",
    "\n",
    "•\tCreating instance of the webdriver as driver .\n",
    "\n",
    "•\tUsing driver.get(“ ”) to make a call to site www.instagram.com \n",
    "\n",
    "•\tFinding the element name the username search box. Name of the username search box is username.\n",
    "•\tSending username of person by using driver.send_keys.\n",
    "\n",
    "•\tFinding the element name the password search box. Name of the password search box is password.\n",
    "•\tSending password  by using driver.send_keys.\n",
    "\n",
    "•\tFinding the xpath of the submit button and storing it as login.\n",
    "\n",
    "•\tClick submit button by click() method.\n"
   ]
  },
  {
   "cell_type": "code",
   "execution_count": 2,
   "metadata": {},
   "outputs": [],
   "source": [
    "driver = webdriver.Chrome('C:/Users/Aman Bhalla/Downloads/chromedriver_win32/chromedriver')"
   ]
  },
  {
   "cell_type": "code",
   "execution_count": 3,
   "metadata": {},
   "outputs": [],
   "source": [
    "driver.get('https://www.instagram.com/')\n",
    "driver.implicitly_wait(10)"
   ]
  },
  {
   "cell_type": "code",
   "execution_count": 4,
   "metadata": {},
   "outputs": [
    {
     "data": {
      "text/plain": [
       "<selenium.webdriver.remote.webelement.WebElement (session=\"d7a577cd1bd78ed75416ae4b14e8f792\", element=\"157632e4-5dbc-4d6f-8e50-52e9e49fcf63\")>"
      ]
     },
     "execution_count": 4,
     "metadata": {},
     "output_type": "execute_result"
    }
   ],
   "source": [
    "user = driver.find_element_by_name('username')\n",
    "user"
   ]
  },
  {
   "cell_type": "code",
   "execution_count": 5,
   "metadata": {},
   "outputs": [],
   "source": [
    "user.send_keys('SAMPLE USERNAME')"
   ]
  },
  {
   "cell_type": "code",
   "execution_count": 6,
   "metadata": {},
   "outputs": [
    {
     "data": {
      "text/plain": [
       "<selenium.webdriver.remote.webelement.WebElement (session=\"d7a577cd1bd78ed75416ae4b14e8f792\", element=\"e9771de6-90c8-4229-a626-62f6e3c538bc\")>"
      ]
     },
     "execution_count": 6,
     "metadata": {},
     "output_type": "execute_result"
    }
   ],
   "source": [
    "password = driver.find_element_by_name('password')\n",
    "password"
   ]
  },
  {
   "cell_type": "code",
   "execution_count": 7,
   "metadata": {},
   "outputs": [],
   "source": [
    "password.send_keys('SAMPLE PASSWORD')"
   ]
  },
  {
   "cell_type": "code",
   "execution_count": 8,
   "metadata": {},
   "outputs": [],
   "source": [
    "login = driver.find_element_by_xpath('//div[starts-with(@class,Igw0E)]/button')\n",
    "login.submit()"
   ]
  },
  {
   "cell_type": "markdown",
   "metadata": {},
   "source": [
    "# Question 2"
   ]
  },
  {
   "cell_type": "markdown",
   "metadata": {},
   "source": [
    "•\tSearching food in search box.\n",
    "\n",
    "•\tSelecting the search box by finding the xpath of the search box.\n",
    "\n",
    "•\tAccessing the the xpath by driver. find_element_by_xpath and stoing this as search_box.\n",
    "\n",
    "•\tTyping food in search box by using .send_keys() method the to type (“food”) in search box.\n",
    "\n",
    "•\tAccessing every handle we get after typing food in search box,\n",
    "\n",
    "•\tAll containers have same class and can be accessed using driver.find_elements_by_class_name('Ap253') and storing it in list\n",
    "\n",
    "•\tPrinting each text of each webdriver object in list,except ones starting with “#”.\n",
    "\n",
    "\n"
   ]
  },
  {
   "cell_type": "code",
   "execution_count": 9,
   "metadata": {},
   "outputs": [
    {
     "data": {
      "text/plain": [
       "<selenium.webdriver.remote.webelement.WebElement (session=\"d7a577cd1bd78ed75416ae4b14e8f792\", element=\"bfa83c0e-97f9-422f-ab0f-4e872178b84d\")>"
      ]
     },
     "execution_count": 9,
     "metadata": {},
     "output_type": "execute_result"
    }
   ],
   "source": [
    "search_box = driver.find_element_by_xpath(\"//div[starts-with(@class,LWmhU)]/input\")\n",
    "search_box"
   ]
  },
  {
   "cell_type": "code",
   "execution_count": 10,
   "metadata": {},
   "outputs": [],
   "source": [
    "search_box.send_keys('food')\n"
   ]
  },
  {
   "cell_type": "code",
   "execution_count": 11,
   "metadata": {},
   "outputs": [
    {
     "data": {
      "text/plain": [
       "[<selenium.webdriver.remote.webelement.WebElement (session=\"d7a577cd1bd78ed75416ae4b14e8f792\", element=\"4690ed95-194b-4b5c-b0e3-f0148d84844d\")>,\n",
       " <selenium.webdriver.remote.webelement.WebElement (session=\"d7a577cd1bd78ed75416ae4b14e8f792\", element=\"bf84cc42-88d8-42b6-9066-b8ede51269e3\")>,\n",
       " <selenium.webdriver.remote.webelement.WebElement (session=\"d7a577cd1bd78ed75416ae4b14e8f792\", element=\"360f1504-6187-4519-8950-fcda66dbada7\")>,\n",
       " <selenium.webdriver.remote.webelement.WebElement (session=\"d7a577cd1bd78ed75416ae4b14e8f792\", element=\"8abe89f4-0325-4f21-88a6-04b1ce3f748b\")>,\n",
       " <selenium.webdriver.remote.webelement.WebElement (session=\"d7a577cd1bd78ed75416ae4b14e8f792\", element=\"b75fcc6e-c56e-40b0-bc33-12652dd8c763\")>,\n",
       " <selenium.webdriver.remote.webelement.WebElement (session=\"d7a577cd1bd78ed75416ae4b14e8f792\", element=\"7aeaf941-4a86-4741-aa40-e1d8ee1e292c\")>,\n",
       " <selenium.webdriver.remote.webelement.WebElement (session=\"d7a577cd1bd78ed75416ae4b14e8f792\", element=\"b095d825-7255-4f6b-8d66-584a4f787fc6\")>,\n",
       " <selenium.webdriver.remote.webelement.WebElement (session=\"d7a577cd1bd78ed75416ae4b14e8f792\", element=\"d964554f-f1e2-4b47-b273-28958069e914\")>,\n",
       " <selenium.webdriver.remote.webelement.WebElement (session=\"d7a577cd1bd78ed75416ae4b14e8f792\", element=\"a58e4796-0f78-490c-8f0a-8c3d11dd796c\")>,\n",
       " <selenium.webdriver.remote.webelement.WebElement (session=\"d7a577cd1bd78ed75416ae4b14e8f792\", element=\"3c037665-a4c7-4956-8231-7c724191cb52\")>,\n",
       " <selenium.webdriver.remote.webelement.WebElement (session=\"d7a577cd1bd78ed75416ae4b14e8f792\", element=\"d968a007-898f-4d42-a422-0b1ca8150109\")>,\n",
       " <selenium.webdriver.remote.webelement.WebElement (session=\"d7a577cd1bd78ed75416ae4b14e8f792\", element=\"91268987-125b-44e5-8b66-8529625c5fe4\")>,\n",
       " <selenium.webdriver.remote.webelement.WebElement (session=\"d7a577cd1bd78ed75416ae4b14e8f792\", element=\"fcbc5331-f483-4cbf-aeba-3836e315959f\")>,\n",
       " <selenium.webdriver.remote.webelement.WebElement (session=\"d7a577cd1bd78ed75416ae4b14e8f792\", element=\"81bca673-a605-4521-b22c-ee42544fd7b4\")>,\n",
       " <selenium.webdriver.remote.webelement.WebElement (session=\"d7a577cd1bd78ed75416ae4b14e8f792\", element=\"e3652329-0ef6-4b2f-86ad-8c7352ea6384\")>,\n",
       " <selenium.webdriver.remote.webelement.WebElement (session=\"d7a577cd1bd78ed75416ae4b14e8f792\", element=\"10ff3bbc-67fb-4789-80cc-b7e9e3a04bf3\")>,\n",
       " <selenium.webdriver.remote.webelement.WebElement (session=\"d7a577cd1bd78ed75416ae4b14e8f792\", element=\"fe0d998d-a671-44fd-908a-3db4737580c4\")>,\n",
       " <selenium.webdriver.remote.webelement.WebElement (session=\"d7a577cd1bd78ed75416ae4b14e8f792\", element=\"4221fc33-b778-4d31-a6fe-a825360d3c77\")>,\n",
       " <selenium.webdriver.remote.webelement.WebElement (session=\"d7a577cd1bd78ed75416ae4b14e8f792\", element=\"4e786119-64ae-4111-8ee7-2d2b947b8af0\")>,\n",
       " <selenium.webdriver.remote.webelement.WebElement (session=\"d7a577cd1bd78ed75416ae4b14e8f792\", element=\"f91c9ae2-208b-4abf-9b91-7bd5bdc44169\")>,\n",
       " <selenium.webdriver.remote.webelement.WebElement (session=\"d7a577cd1bd78ed75416ae4b14e8f792\", element=\"057c1a21-f1a3-42f7-a05e-ccba240a48d3\")>,\n",
       " <selenium.webdriver.remote.webelement.WebElement (session=\"d7a577cd1bd78ed75416ae4b14e8f792\", element=\"1830b08a-4ec3-49f3-a11d-f6328d1de0a4\")>,\n",
       " <selenium.webdriver.remote.webelement.WebElement (session=\"d7a577cd1bd78ed75416ae4b14e8f792\", element=\"8ec3a35b-8dbe-4577-a7c5-aef0888075c9\")>,\n",
       " <selenium.webdriver.remote.webelement.WebElement (session=\"d7a577cd1bd78ed75416ae4b14e8f792\", element=\"0ee61ba0-a7e9-4378-86bf-82b455818cfc\")>,\n",
       " <selenium.webdriver.remote.webelement.WebElement (session=\"d7a577cd1bd78ed75416ae4b14e8f792\", element=\"7f8a21f5-0b1a-423b-b45c-af47bb286dd7\")>,\n",
       " <selenium.webdriver.remote.webelement.WebElement (session=\"d7a577cd1bd78ed75416ae4b14e8f792\", element=\"45d7740a-6d95-414c-b083-86166b8fab30\")>,\n",
       " <selenium.webdriver.remote.webelement.WebElement (session=\"d7a577cd1bd78ed75416ae4b14e8f792\", element=\"00e59128-01f1-408c-bb92-005ece5336fb\")>,\n",
       " <selenium.webdriver.remote.webelement.WebElement (session=\"d7a577cd1bd78ed75416ae4b14e8f792\", element=\"c53deac6-9b4e-446b-80ae-b47468c3183d\")>,\n",
       " <selenium.webdriver.remote.webelement.WebElement (session=\"d7a577cd1bd78ed75416ae4b14e8f792\", element=\"ac0fc81f-837f-4c3d-b77d-ec63ad03d2e3\")>,\n",
       " <selenium.webdriver.remote.webelement.WebElement (session=\"d7a577cd1bd78ed75416ae4b14e8f792\", element=\"a4040c13-5a01-4f58-9fb9-dd44946402a5\")>,\n",
       " <selenium.webdriver.remote.webelement.WebElement (session=\"d7a577cd1bd78ed75416ae4b14e8f792\", element=\"91e7b9d8-1a3c-456c-9000-003826a684bc\")>,\n",
       " <selenium.webdriver.remote.webelement.WebElement (session=\"d7a577cd1bd78ed75416ae4b14e8f792\", element=\"7646f2ef-29e4-4211-b53c-25c8a982572d\")>,\n",
       " <selenium.webdriver.remote.webelement.WebElement (session=\"d7a577cd1bd78ed75416ae4b14e8f792\", element=\"662ccca6-e099-4690-ad43-c6e9b40e6eb4\")>,\n",
       " <selenium.webdriver.remote.webelement.WebElement (session=\"d7a577cd1bd78ed75416ae4b14e8f792\", element=\"a7fda577-f22c-4168-97dc-5666100794a0\")>,\n",
       " <selenium.webdriver.remote.webelement.WebElement (session=\"d7a577cd1bd78ed75416ae4b14e8f792\", element=\"60bd6c21-3a6d-467c-9469-4d5fa37f31ad\")>,\n",
       " <selenium.webdriver.remote.webelement.WebElement (session=\"d7a577cd1bd78ed75416ae4b14e8f792\", element=\"783fded6-e431-47dc-9350-0142cdbc1927\")>,\n",
       " <selenium.webdriver.remote.webelement.WebElement (session=\"d7a577cd1bd78ed75416ae4b14e8f792\", element=\"3db3d8a8-c381-418c-9987-5424a5dfbd06\")>,\n",
       " <selenium.webdriver.remote.webelement.WebElement (session=\"d7a577cd1bd78ed75416ae4b14e8f792\", element=\"80896ad8-9e99-4a7f-b3d0-ecd99f681835\")>,\n",
       " <selenium.webdriver.remote.webelement.WebElement (session=\"d7a577cd1bd78ed75416ae4b14e8f792\", element=\"7256038c-7053-45df-87a2-72b496ff0845\")>,\n",
       " <selenium.webdriver.remote.webelement.WebElement (session=\"d7a577cd1bd78ed75416ae4b14e8f792\", element=\"1d0808cd-2253-4a20-bd95-fffb2a6fa01c\")>,\n",
       " <selenium.webdriver.remote.webelement.WebElement (session=\"d7a577cd1bd78ed75416ae4b14e8f792\", element=\"62171a98-817d-4c38-9ebb-8edcc129a5db\")>,\n",
       " <selenium.webdriver.remote.webelement.WebElement (session=\"d7a577cd1bd78ed75416ae4b14e8f792\", element=\"99adaebb-ee27-4f14-8be1-8e0f65bf26d8\")>,\n",
       " <selenium.webdriver.remote.webelement.WebElement (session=\"d7a577cd1bd78ed75416ae4b14e8f792\", element=\"7679e2b9-f987-4b9b-a029-2278dc4d104a\")>,\n",
       " <selenium.webdriver.remote.webelement.WebElement (session=\"d7a577cd1bd78ed75416ae4b14e8f792\", element=\"97edcc49-aa13-4c6d-8eb5-8f6872078a1e\")>,\n",
       " <selenium.webdriver.remote.webelement.WebElement (session=\"d7a577cd1bd78ed75416ae4b14e8f792\", element=\"d451739f-9656-48f4-948c-00ec7db71111\")>,\n",
       " <selenium.webdriver.remote.webelement.WebElement (session=\"d7a577cd1bd78ed75416ae4b14e8f792\", element=\"5725e6dc-0d35-4c1f-913c-0b7c14d5afe0\")>,\n",
       " <selenium.webdriver.remote.webelement.WebElement (session=\"d7a577cd1bd78ed75416ae4b14e8f792\", element=\"0afc01d8-437d-4f48-8b57-385ae3f75d2d\")>,\n",
       " <selenium.webdriver.remote.webelement.WebElement (session=\"d7a577cd1bd78ed75416ae4b14e8f792\", element=\"b7af69c0-7960-42c3-91c4-956751deb046\")>,\n",
       " <selenium.webdriver.remote.webelement.WebElement (session=\"d7a577cd1bd78ed75416ae4b14e8f792\", element=\"98356716-e6ed-4259-b15e-ea4d391c4d53\")>,\n",
       " <selenium.webdriver.remote.webelement.WebElement (session=\"d7a577cd1bd78ed75416ae4b14e8f792\", element=\"e8223845-7096-42d0-bfad-fc332b1ea60f\")>,\n",
       " <selenium.webdriver.remote.webelement.WebElement (session=\"d7a577cd1bd78ed75416ae4b14e8f792\", element=\"297a8600-7e8b-4580-9031-0bda6823cd6e\")>,\n",
       " <selenium.webdriver.remote.webelement.WebElement (session=\"d7a577cd1bd78ed75416ae4b14e8f792\", element=\"f0455b97-454c-4e84-b518-9b02812bcc33\")>,\n",
       " <selenium.webdriver.remote.webelement.WebElement (session=\"d7a577cd1bd78ed75416ae4b14e8f792\", element=\"eda5a6fb-7ace-4bf8-8144-0a2af71c7458\")>,\n",
       " <selenium.webdriver.remote.webelement.WebElement (session=\"d7a577cd1bd78ed75416ae4b14e8f792\", element=\"e8ab05a9-cce7-476d-937e-b557ef741c98\")>,\n",
       " <selenium.webdriver.remote.webelement.WebElement (session=\"d7a577cd1bd78ed75416ae4b14e8f792\", element=\"676fa31a-4bfd-4dea-a920-d576c2547f72\")>]"
      ]
     },
     "execution_count": 11,
     "metadata": {},
     "output_type": "execute_result"
    }
   ],
   "source": [
    "lis = driver.find_elements_by_class_name('Ap253')\n",
    "lis"
   ]
  },
  {
   "cell_type": "code",
   "execution_count": 12,
   "metadata": {},
   "outputs": [
    {
     "name": "stdout",
     "output_type": "stream",
     "text": [
      "yourfoodlab\n",
      "food.hangover_\n",
      "food__photographys\n",
      "fooddamittra\n",
      "foodculture.inn\n",
      "tummyy_hub\n",
      "food\n",
      "hot_for_food\n",
      "foodtalkindia\n",
      "delhifoodguide\n",
      "thefoodandfire\n",
      "dilsefoodie\n",
      "food_lunatic\n",
      "food_junc\n",
      "foodiesince96\n",
      "food_blogger_639\n",
      "foodzaara\n",
      "foodie.sardarji\n",
      "dishes_and_destinations\n",
      "fooodie_singh15\n",
      "food_belly11\n",
      "foodandart_divi\n",
      "eat.with.chi\n",
      "buzzfeedfood\n",
      "foodjourneywithus_\n",
      "foodiepunjabann\n",
      "richabatra_blog\n",
      "delhifoodwalks\n",
      "foodieartist_\n",
      "infinite_shades_of_food_\n",
      "foodiesdelhite\n",
      "ndtv_food\n",
      "food_shatabdi\n",
      "foodisnirvana\n",
      "thefood.vlogger\n",
      "thefooddestination\n",
      "foodparadise.in\n",
      "food.iedelhi\n",
      "food.finista\n",
      "food_and_makeup_lover\n",
      "the_foodie_bae\n",
      "thisisdelhi\n",
      "food_crunching\n",
      "petbhareniyatnahi\n",
      "imtoocheesyforyou\n",
      "Horn Ok Please - Food Truck Festival\n",
      "hmm_nikhil\n",
      "food.for.moods__\n",
      "street_food_chandigarh\n",
      "food_travel_etc\n",
      "foodoverworld\n",
      "Food Safety and Standards Authority of India\n",
      "food_fusions_\n"
     ]
    }
   ],
   "source": [
    "for i in lis:\n",
    "    if('#' in i.text):\n",
    "        continue\n",
    "    else:\n",
    "        print(i.text)\n",
    "search_box.clear()"
   ]
  },
  {
   "cell_type": "markdown",
   "metadata": {},
   "source": [
    "# Question 3"
   ]
  },
  {
   "cell_type": "markdown",
   "metadata": {},
   "source": [
    "•\tSearching profile “So Delhi”in search box.\n",
    "\n",
    "•\tSelecting the search box by finding the xpath of the search box.\n",
    "\n",
    "•\tAccessing the the xpath by driver. find_element_by_xpath and stoing this as search_box.\n",
    "\n",
    "•\tSearch Profile “So Delhi” in search box by using .send_keys() method the to type (“So Delhi”) in search box.\n",
    "\n",
    "•\tOpening so delhi profile by finding the profile element .\n",
    "\n",
    "•\tElement of the profile can be accessed using driver.find_elements_by_class_name(‘yCE8’) .\n",
    "\n",
    "•\tStoring it as sodelhi_profile.\n",
    "\n",
    "•\tAccesing the element by clicking over it by using .click() method.\n",
    "\n"
   ]
  },
  {
   "cell_type": "markdown",
   "metadata": {},
   "source": [
    "## Searching and Openinig So Delhi Profile"
   ]
  },
  {
   "cell_type": "code",
   "execution_count": 13,
   "metadata": {},
   "outputs": [],
   "source": [
    "search_box = driver.find_element_by_xpath(\"//div[starts-with(@class,LWmhU)]/input\")\n"
   ]
  },
  {
   "cell_type": "code",
   "execution_count": 14,
   "metadata": {},
   "outputs": [],
   "source": [
    "search_box.send_keys('So Delhi')\n",
    "time.sleep(5)"
   ]
  },
  {
   "cell_type": "code",
   "execution_count": 15,
   "metadata": {},
   "outputs": [],
   "source": [
    "sodelhi_profile = driver.find_element_by_class_name(\"yCE8d  \")\n",
    "sodelhi_profile.click()"
   ]
  },
  {
   "cell_type": "markdown",
   "metadata": {},
   "source": [
    "# Question 4"
   ]
  },
  {
   "cell_type": "markdown",
   "metadata": {},
   "source": [
    "•\tAfter opening the So delhi profile in previous Question.\n",
    "•\tInspect the Folllow Button\n",
    "•\tGet the Xpath of the Follow Buttton.\n",
    "•\tAccess the Follow Button by follow = driver.find_element_by_xpath('//div[@class = \"BY3EC  \"]/div/span/span'). Click on the the button by driver.click( method.and print(“Started Following”)\n",
    "•\tAnd Youll Start Following the So Delhi Profile.\n",
    "•\tPut this code in try  and extend. If one is already Following Profile. Driver.find_element will give no such eleent exception and will redirecr to extend to print (“Already Following”).\n",
    "\n",
    "•\tInspect the Unfollow Button\n",
    "•\tGet the Xpath of the Follow Buttton.\n",
    "•\tAccess the Unfollow Button by unfollow = driver.find_element_by_xpath(‘//span[starts-with(@class,vBF20)]/button’). Click on the the button by driver.click( method.and print(“Started Unfollow So Delhi”)\n",
    "•\tAnd You’ll Start Following the So Delhi Profile.\n",
    "•\tPut this code in try  and extend. If one is already Following Profile. Driver.find_element will give no such element exception and will re direct to extend to print (“Already Unfollowing  So Delhi”).\n",
    "\n"
   ]
  },
  {
   "cell_type": "markdown",
   "metadata": {},
   "source": [
    "## Start Following Profile So Delhi"
   ]
  },
  {
   "cell_type": "code",
   "execution_count": 16,
   "metadata": {},
   "outputs": [
    {
     "name": "stdout",
     "output_type": "stream",
     "text": [
      "Started Following So delhi\n"
     ]
    }
   ],
   "source": [
    "try :\n",
    "    follow = driver.find_element_by_xpath('//div[@class = \"BY3EC  \"]/div/span/span')\n",
    "    follow.click()\n",
    "    print('Started Following So delhi')\n",
    "except (NoSuchElementException ):\n",
    "    print(\"Already following So Delhi on instagram\")\n",
    "time.sleep(7)"
   ]
  },
  {
   "cell_type": "markdown",
   "metadata": {},
   "source": [
    "## Start UnFollowing Profile So Delhi"
   ]
  },
  {
   "cell_type": "code",
   "execution_count": 17,
   "metadata": {},
   "outputs": [
    {
     "name": "stdout",
     "output_type": "stream",
     "text": [
      "Started UnFollowing So delhi\n"
     ]
    }
   ],
   "source": [
    "try :\n",
    "    unfollow = driver.find_element_by_xpath('//span[starts-with(@class,vBF20)]/button')\n",
    "    unfollow.click()\n",
    "    unfollow1 = driver.find_element_by_css_selector('div.mt3GC button')\n",
    "    unfollow1.click()\n",
    "    print('Started UnFollowing So delhi')\n",
    "except (NoSuchElementException ):\n",
    "    print(\"Already Unfollowing So Delhi on instagram\")"
   ]
  },
  {
   "cell_type": "markdown",
   "metadata": {},
   "source": [
    "# Question 5"
   ]
  },
  {
   "cell_type": "markdown",
   "metadata": {},
   "source": [
    "## Question 5.1"
   ]
  },
  {
   "cell_type": "markdown",
   "metadata": {},
   "source": [
    "•\tSearching and opening  Dl Se Foodie profile.\n",
    "•\tOpening first post of dil se foodie profile by inspecting the class name of the element of the profile.\n",
    "•\tAccesing bthe first post by like_post = driver.find_element_by_class_name(\"_9AhH0\") and clicking by .click() method\n",
    "•\tPressing the like button on the post by creating an object of it by find_element_by_class_name(\"fr66n\"). Click this element by .click() method.\n",
    "•\tPressing the next button on the post by creating an object of it by next_page = driver.find element_by_css_selector('a._65Bje.coreSpriteRightPaginationArrow'). Click this element by .click() method.\n",
    "•\tRunning this in loop to like first 30 post of Dil Se foodie.\n",
    "•\tClose the post after the loop ends.\n"
   ]
  },
  {
   "cell_type": "code",
   "execution_count": 18,
   "metadata": {},
   "outputs": [],
   "source": [
    "search_box = driver.find_element_by_xpath(\"//div[starts-with(@class,LWmhU)]/input\")\n",
    "search_box.send_keys('dilsefoodie')\n",
    "time.sleep(5)"
   ]
  },
  {
   "cell_type": "code",
   "execution_count": 19,
   "metadata": {},
   "outputs": [],
   "source": [
    "dilsefoodie_profile = driver.find_element_by_xpath('//div[@class = \"fuqBx\"]/a')\n",
    "\n",
    "dilsefoodie_profile.click()"
   ]
  },
  {
   "cell_type": "markdown",
   "metadata": {},
   "source": [
    "## Like 30 post of Dil Se Foodie"
   ]
  },
  {
   "cell_type": "code",
   "execution_count": 20,
   "metadata": {},
   "outputs": [
    {
     "name": "stdout",
     "output_type": "stream",
     "text": [
      "Liked all 30 posts of dil se foodie\n"
     ]
    }
   ],
   "source": [
    "like_post = driver.find_element_by_class_name(\"_9AhH0\")\n",
    "like_post.click()\n",
    "for i in range(0,30,1):\n",
    "    like_post1 = driver.find_element_by_class_name(\"fr66n\")\n",
    "    like_post1.click()\n",
    "    next_page = driver.find_element_by_css_selector('a._65Bje.coreSpriteRightPaginationArrow')\n",
    "    next_page.click()\n",
    "time.sleep(5)\n",
    "print(\"Liked all 30 posts of dil se foodie\")"
   ]
  },
  {
   "cell_type": "code",
   "execution_count": 21,
   "metadata": {},
   "outputs": [],
   "source": [
    "clo = driver.find_element_by_css_selector('div.Igw0E.IwRSH.eGOV_._4EzTm.BI4qX.qJPeX.fm1AK.TxciK.yiMZG')\n",
    "clo.click()"
   ]
  },
  {
   "cell_type": "markdown",
   "metadata": {},
   "source": [
    "## Question 5.2"
   ]
  },
  {
   "cell_type": "markdown",
   "metadata": {},
   "source": [
    "•\tOpening first post of dil se foodie profile by inspecting the class name of the element of the profile.\n",
    "•\tAccesing the first post by like_post = driver.find_element_by_class_name(\"_9AhH0\") and clicking by .click() method\n",
    "•\tPressing the unlike button on the post by creating an object of it by find_element_by_class_name(\"fr66n\"). Click this element by .click() method.\n",
    "•\tPressing the next button on the post by creating an object of it by next_page = driver.find element_by_css_selector('a._65Bje.coreSpriteRightPaginationArrow'). Click this element by .click() method.\n",
    "•\tRunning this in loop to unlike first 30 post of Dil Se foodie.\n",
    "•\tClose the post after the loop ends.\n"
   ]
  },
  {
   "cell_type": "markdown",
   "metadata": {},
   "source": [
    "## Unlike 30 posts of Dil se Foodie"
   ]
  },
  {
   "cell_type": "code",
   "execution_count": 22,
   "metadata": {},
   "outputs": [
    {
     "name": "stdout",
     "output_type": "stream",
     "text": [
      "unLiked all 30 posts of dil se foodie\n"
     ]
    }
   ],
   "source": [
    "unlike_post = driver.find_element_by_class_name(\"_9AhH0\")\n",
    "unlike_post.click()\n",
    "for i in range(0,30,1):\n",
    "    like_post1 = driver.find_element_by_class_name(\"fr66n\")\n",
    "    like_post1.click()\n",
    "    next_page = driver.find_element_by_css_selector('a._65Bje.coreSpriteRightPaginationArrow')\n",
    "    next_page.click()\n",
    "    \n",
    "\n",
    "print(\"unLiked all 30 posts of dil se foodie\")"
   ]
  },
  {
   "cell_type": "code",
   "execution_count": 23,
   "metadata": {},
   "outputs": [],
   "source": [
    "clo = driver.find_element_by_css_selector('div.Igw0E.IwRSH.eGOV_._4EzTm.BI4qX.qJPeX.fm1AK.TxciK.yiMZG')\n",
    "clo.click()"
   ]
  },
  {
   "cell_type": "markdown",
   "metadata": {},
   "source": [
    "# Question 6"
   ]
  },
  {
   "cell_type": "markdown",
   "metadata": {},
   "source": [
    "## Question 6.1"
   ]
  },
  {
   "cell_type": "markdown",
   "metadata": {},
   "source": [
    "•\tSearch  and open So Delhi Profile in the Search box\n",
    "•\tClick on followers button and inspect it to get the  xpath of the follower button.\n",
    "•\tAccess the element by using follower = driver.find_element_by_xpath('//*[@id=\"react-root\"]/section/main/div/header/section/ul/li[2]/a') . Click the follower by .click() method.\n",
    "•\tAccessing each follower in the followers list using driver.find_element_by_class_name(\"isgrP\").click()\n",
    "•\tScrolling the followers list to till top 500 followers are scrapped from the followers list.\n",
    "\n",
    "•\tSearch  and open Foodtalkindia Profile in the Search box\n",
    "•\tClick on followers button and inspect it to get the  xpath of the follower button.\n",
    "•\tAccess the element by using follower = driver.find_element_by_xpath('//*[@id=\"react-root\"]/section/main/div/header/section/ul/li[2]/a') . Click the follower by .click() method.\n",
    "•\tAccessing each follower in the followers list using driver.find_element_by_class_name(\"isgrP\").click()\n",
    "•\tScrolling the followers list to till top 500 followers are scrapped from the followers list.\n"
   ]
  },
  {
   "cell_type": "markdown",
   "metadata": {},
   "source": [
    "## So Delhi First 500 Followers"
   ]
  },
  {
   "cell_type": "code",
   "execution_count": 24,
   "metadata": {},
   "outputs": [],
   "source": [
    "driver.get('https://www.instagram.com/sodelhi/')"
   ]
  },
  {
   "cell_type": "code",
   "execution_count": 28,
   "metadata": {},
   "outputs": [
    {
     "data": {
      "text/plain": [
       "<selenium.webdriver.remote.webelement.WebElement (session=\"d7a577cd1bd78ed75416ae4b14e8f792\", element=\"0bef14f2-0668-4ceb-84eb-b9e715e22198\")>"
      ]
     },
     "execution_count": 28,
     "metadata": {},
     "output_type": "execute_result"
    }
   ],
   "source": [
    "follower = driver.find_element_by_xpath('//*[@id=\"react-root\"]/section/main/div/header/section/ul/li[2]/a')\n",
    "follower"
   ]
  },
  {
   "cell_type": "code",
   "execution_count": 29,
   "metadata": {},
   "outputs": [],
   "source": [
    "follower.click()"
   ]
  },
  {
   "cell_type": "code",
   "execution_count": 30,
   "metadata": {},
   "outputs": [],
   "source": [
    "\n",
    "while True:\n",
    "    driver.find_element_by_class_name(\"isgrP\").click() ## switching to followers list \n",
    "    driver.find_element_by_tag_name(\"body\").send_keys(Keys.END) ### scrolling using End Key\n",
    "    li=driver.find_elements_by_css_selector(\"a.FPmhX.notranslate._0imsa \")\n",
    "    if len(li)>=500:\n",
    "        break\n"
   ]
  },
  {
   "cell_type": "code",
   "execution_count": 31,
   "metadata": {},
   "outputs": [
    {
     "name": "stdout",
     "output_type": "stream",
     "text": [
      "1 _eariah_\n",
      "2 the_styl_mermaid\n",
      "3 pandit_hemu_bhardwaj_0007\n",
      "4 x.kashish_jain.x\n",
      "5 tanisha.kalra\n",
      "6 jayant___13\n",
      "7 vanshjairath\n",
      "8 chhabra2601\n",
      "9 ishalteration\n",
      "10 vishalvishal3143\n",
      "11 manushvi\n",
      "12 monikapaul05\n",
      "13 love_is_fuck_506\n",
      "14 _vijita_\n",
      "15 newparadisepizza\n",
      "16 elsaksham\n",
      "17 ideepakrajput\n",
      "18 shawron_7\n",
      "19 tanyyj_11\n",
      "20 farbud.rezaee\n",
      "21 sonal.vijay10\n",
      "22 nitika_suneja\n",
      "23 nad_flavours\n",
      "24 neeti_garg\n",
      "25 alo_neboy1999\n",
      "26 adashandasplash\n",
      "27 the_branded_devil\n",
      "28 forinstabot\n",
      "29 hrishi.bhatnagar\n",
      "30 jaybhavaniggn\n",
      "31 kasaudhan9999\n",
      "32 cll_meh_muskan_5\n",
      "33 janki15690\n",
      "34 pihu_sharma9958\n",
      "35 fla.voursofindia\n",
      "36 mr.dada67\n",
      "37 soulfulkind\n",
      "38 devesh.kumarr\n",
      "39 dapun29\n",
      "40 ankitsharm55\n",
      "41 vishal_editzzz\n",
      "42 shubham.sr4\n",
      "43 niharikagarg07\n",
      "44 _aisha.ab_\n",
      "45 thefoodiestaaz\n",
      "46 sivvran_raj\n",
      "47 kanishq_basoya_dellhii0001\n",
      "48 raj_rinks\n",
      "49 missprernarora\n",
      "50 nikita_chauhan09\n",
      "51 houseofhermosaa\n",
      "52 hhh.hh848\n",
      "53 gudiyakumari5050\n",
      "54 thenailstudio.and.academy\n",
      "55 asciansays\n",
      "56 mohit.sharma1991\n",
      "57 devkumar9617\n",
      "58 vivek.9184\n",
      "59 they_just_said\n",
      "60 shimayasodhi2025\n",
      "61 anjuu__zzz\n",
      "62 pubalidutta29\n",
      "63 m.y.s.p.a.ce\n",
      "64 rud_fzn\n",
      "65 rajnish.singh.tomar\n",
      "66 itzz__a.kayy\n",
      "67 jyotibala9072\n",
      "68 rahul_kesar\n",
      "69 kreetikasmadan\n",
      "70 thoughts.inked\n",
      "71 itz_payal06\n",
      "72 nidhipal116\n",
      "73 rajanmehta123\n",
      "74 su_mit1341\n",
      "75 lipikaaray\n",
      "76 ishitaarvindsharma\n",
      "77 lovewrites11\n",
      "78 akansha_thecreativer\n",
      "79 divyaroraa03\n",
      "80 sudher30_cafe_xero_degrres\n",
      "81 ar_unkumar2581\n",
      "82 _sheena.bhatia_\n",
      "83 mohitpilwan0007\n",
      "84 shristishah780_\n",
      "85 syed_arshann_ali\n",
      "86 shrichrisna\n",
      "87 kaaransharmaksh45\n",
      "88 minal_gpta_\n",
      "89 _pallavi_dubey_\n",
      "90 gargrajat04\n",
      "91 _mitushihanduja_\n",
      "92 shubhamsharma.bly\n",
      "93 hungry._.again\n",
      "94 food_n_wine_\n",
      "95 aree_abhi_se\n",
      "96 subarna__chaki\n",
      "97 _c_f_13021996\n",
      "98 ishi_garg17\n",
      "99 theonevishalvray\n",
      "100 anjalighangas\n",
      "101 anshu9709090\n",
      "102 chilly_flakes16\n",
      "103 _manit_kaur\n",
      "104 anugya._.singh\n",
      "105 nitesh8393kumar\n",
      "106 _anja__________\n",
      "107 __maanasee__\n",
      "108 bhavyasoni2129\n",
      "109 _aryan_dev\n",
      "110 sardarrizwan037\n",
      "111 insoumynia\n",
      "112 vishalgaykvd\n",
      "113 shivajewellers7\n",
      "114 weird_vibes_wv\n",
      "115 shikha_sheoran\n",
      "116 _kr_naman_\n",
      "117 29himani\n",
      "118 manjugupta8682\n",
      "119 ashutosh_gurjar92\n",
      "120 flavorsofhummus\n",
      "121 nehasaxena_5893\n",
      "122 ___mrwow___\n",
      "123 shruti_sharma_12\n",
      "124 tilakraj9335\n",
      "125 heerkhan.555\n",
      "126 vikash_pune\n",
      "127 meghakumari2046\n",
      "128 seventeen_ly\n",
      "129 garm_entshopping\n",
      "130 rashi.sharma19021\n",
      "131 shashank_mishra4\n",
      "132 im_rishutosh\n",
      "133 gauravkwatra\n",
      "134 dev.editography\n",
      "135 singh_digvijay20\n",
      "136 iamrajveersharma\n",
      "137 faizulhaque9\n",
      "138 siddharthjain1181\n",
      "139 s_m_i_t_3_3_3\n",
      "140 momo_tivated\n",
      "141 enna_love__\n",
      "142 haseenkhan691\n",
      "143 wadhwa_raghav\n",
      "144 shahid__afreed97\n",
      "145 mohammadnadir99\n",
      "146 foodieedelhite\n",
      "147 lubhnaaa\n",
      "148 iam_shail_soni\n",
      "149 parth_patel897\n",
      "150 mariapolo_54\n",
      "151 sunitakhanna160\n",
      "152 pulkit.sachdev\n",
      "153 mohdrizwan09874\n",
      "154 _mis_arora22\n",
      "155 ziya_718\n",
      "156 cutandstyleofficial\n",
      "157 _chugh.sahab_\n",
      "158 sparkmysoul__kk\n",
      "159 amityadavx\n",
      "160 k_toqir_\n",
      "161 kohli.ishant199\n",
      "162 abhinisharma\n",
      "163 gunn0017\n",
      "164 db_1995_\n",
      "165 malaymridul\n",
      "166 rajat.2606\n",
      "167 believer8905\n",
      "168 vaishali_shaktawat\n",
      "169 bakefresh_delhi\n",
      "170 official_pandat_05207\n",
      "171 kuvam_sehgal\n",
      "172 tamanna____25\n",
      "173 crazy_millennial\n",
      "174 quarantinedayss_2020\n",
      "175 aditi.o1\n",
      "176 garima3804\n",
      "177 mudit.2000\n",
      "178 rinkuuu.21\n",
      "179 quote.zon\n",
      "180 _navya.jha_\n",
      "181 sannchitaaa_\n",
      "182 sauteandtadka\n",
      "183 monica_gupta__\n",
      "184 zryny70\n",
      "185 ravi_bairwa\n",
      "186 hemang_khandelwal\n",
      "187 kupwaraphotographyclub\n",
      "188 shiz.roshani\n",
      "189 himalyan_004\n",
      "190 amitranaaaa\n",
      "191 walia__shagun\n",
      "192 archana.singh.7\n",
      "193 ace_c_ziel\n",
      "194 merakiiarthouse\n",
      "195 deepak.sainimbd420420\n",
      "196 priyankakaushal_14\n",
      "197 nneel.datta\n",
      "198 the_creativity_boxx\n",
      "199 aadyagarg42\n",
      "200 rayankdutt\n",
      "201 mohitmishra1808\n",
      "202 priyasadh09\n",
      "203 poonam.haryani\n",
      "204 mannu_upadhyay__\n",
      "205 prraveengupta\n",
      "206 electricenglish\n",
      "207 saloni.s.587\n",
      "208 angelinaa.khan_\n",
      "209 globetrotters_fam\n",
      "210 komal_.65\n",
      "211 shihindu.devi.35\n",
      "212 khyatiy\n",
      "213 ishan_rai_\n",
      "214 peeeru1\n",
      "215 raisakatyal\n",
      "216 shrutisinghal14\n",
      "217 bhu_takta_chik\n",
      "218 s_luv143\n",
      "219 anni.mahato\n",
      "220 meemzthe21\n",
      "221 shamshadalam810\n",
      "222 gauravjatwani74\n",
      "223 iam_mdkaif\n",
      "224 barupalhitesh\n",
      "225 basmah_farheen\n",
      "226 still.hungry_\n",
      "227 tejal_2311\n",
      "228 hurprise_event\n",
      "229 gurisingh.24\n",
      "230 puneet2400\n",
      "231 pranavbakhshi\n",
      "232 iamanishyadav\n",
      "233 themukulchugh\n",
      "234 mylens_stories\n",
      "235 mathur.sahil1995\n",
      "236 knowabhishekrai\n",
      "237 prachi_agg2504\n",
      "238 blackmangoindia\n",
      "239 goofywanderer_\n",
      "240 kb_khevu\n",
      "241 ashu._xvii\n",
      "242 tanw.ar0007\n",
      "243 informando_sinais_do_fim\n",
      "244 shreyas_pannase\n",
      "245 mansirocks22\n",
      "246 kanishka_g07\n",
      "247 nature_photos_greenary\n",
      "248 namandeep_bhullar\n",
      "249 geetika_popli\n",
      "250 gmd00734\n",
      "251 zayrishsiddique\n",
      "252 vegansumedha\n",
      "253 akash_vashishtha_\n",
      "254 defaultervickypandit\n",
      "255 princy_balyan\n",
      "256 sakshii_1302\n",
      "257 swati.0507\n",
      "258 officialpeopleofcalcutta\n",
      "259 karan_chugh54\n",
      "260 shrutijain_2504\n",
      "261 neeta.sahajwani\n",
      "262 chan.nelise\n",
      "263 _memoo.__\n",
      "264 shreyaakedia\n",
      "265 amitsingh2419922019\n",
      "266 ami_hnamte\n",
      "267 rajendra199715\n",
      "268 alt_kar95\n",
      "269 sridevi_raju\n",
      "270 arvinder.grover.30\n",
      "271 ajay.xret\n",
      "272 rollingpencil20\n",
      "273 arnab863729\n",
      "274 nehagakkar\n",
      "275 _vanshxbhatia_\n",
      "276 guglis_puff\n",
      "277 in_the_colour_wheel\n",
      "278 cibo_rk\n",
      "279 yamica_chopra\n",
      "280 kumarpramod43736\n",
      "281 sona_kaur_dhariwal\n",
      "282 bbfood_hub\n",
      "283 jyotijolly\n",
      "284 ______oyesingh_____\n",
      "285 wardrobiest\n",
      "286 greeeetings7416\n",
      "287 riya_malhotra050\n",
      "288 thesaurav_j\n",
      "289 wanderersoul_scope\n",
      "290 sonyrajput17\n",
      "291 tanisha_zulfi\n",
      "292 nashra98760\n",
      "293 sundramshahi96\n",
      "294 food.ie27\n",
      "295 dtimetraveller.photography\n",
      "296 hardik.goel\n",
      "297 chopra7814\n",
      "298 nishtha__chopra\n",
      "299 _sun._.shine_79\n",
      "300 babaji5722\n",
      "301 mehendi_by_farhat\n",
      "302 blessingshealingssolutions\n",
      "303 thapakji1\n",
      "304 niharikaa.kumar\n",
      "305 club__style_\n",
      "306 namanb512_\n",
      "307 kevasiya.in\n",
      "308 himanshu_rajjj\n",
      "309 amansingh.mnnit\n",
      "310 beautyshop5056\n",
      "311 kar98k_khatri\n",
      "312 theakashbhasin\n",
      "313 priyankachouksey_20\n",
      "314 allaboutguwahatii\n",
      "315 guddukhan1316\n",
      "316 world_matters_medical\n",
      "317 bountifull6\n",
      "318 teacigarettes._\n",
      "319 soni.a7444\n",
      "320 garimabhandariofficial\n",
      "321 gar.gi005\n",
      "322 pratyanchaagupta\n",
      "323 rsoumenphotography\n",
      "324 dessertsyyy\n",
      "325 adityaboi\n",
      "326 shubhirastogi8\n",
      "327 deepak_jha07\n",
      "328 adi_tii_\n",
      "329 ak360degreeevents\n",
      "330 vivek_arts__15\n",
      "331 riddhhi.k\n",
      "332 queensony1\n",
      "333 lekhwar_cateres\n",
      "334 aayushi.jajodia\n",
      "335 abhinavlm10\n",
      "336 xx_its_parvez_salmani_786_xx\n",
      "337 rishabhsharma1001\n",
      "338 sandeep_bhagat_731\n",
      "339 ted__tentacion\n",
      "340 malaviya.arun\n",
      "341 surbhigupta0305\n",
      "342 kiku833\n",
      "343 tpavankumarpavanpavan\n",
      "344 preetia1\n",
      "345 power_of_positivity_18\n",
      "346 aaryansingh290\n",
      "347 ami__bansal\n",
      "348 nishamohlamaurya\n",
      "349 riesh_2013\n",
      "350 motivational_quotedaily\n",
      "351 shizraykhan349\n",
      "352 yes_stores_1620\n",
      "353 curbmyhunger\n",
      "354 moonchild_.____\n",
      "355 warneamrit\n",
      "356 surbhisaini_28\n",
      "357 sapnasingh2421\n",
      "358 gurjot4923\n",
      "359 ft.janvii\n",
      "360 justbidayah\n",
      "361 shishirmalhotra\n",
      "362 aditi__mittal20\n",
      "363 saaaarthak_\n",
      "364 anurodh__xhhetri\n",
      "365 trendy_bhukkads\n",
      "366 lovelysona29\n",
      "367 aakarngupta96\n",
      "368 ravimishra3004\n",
      "369 nikhil2kumar0399\n",
      "370 kuch_alfaaz17\n",
      "371 classic_house_of_glass\n",
      "372 g.hannah.g\n",
      "373 sidhhi_nayak\n",
      "374 sanjubaba230880\n",
      "375 ankushpal.01\n",
      "376 im.jawwad\n",
      "377 namangan__city__\n",
      "378 gym._loverss\n",
      "379 swadeshi__memes\n",
      "380 sshivani158\n",
      "381 steal_the_style_12\n",
      "382 nonu_anika\n",
      "383 gyanranjan2896\n",
      "384 sona.gombar\n",
      "385 ankoch2112\n",
      "386 kirankalsikalsi\n",
      "387 sahil_tomar0\n",
      "388 gulshan_chadha\n",
      "389 93saahil\n",
      "390 pupg_queen_kitty\n",
      "391 my_food_gallery99\n",
      "392 anshu_kumar69\n",
      "393 snackvideo_official_india\n",
      "394 ashmitadasguptaa\n",
      "395 _anand.kumar\n",
      "396 thepersuasivequote\n",
      "397 suggx._\n",
      "398 fmzf_03\n",
      "399 paint_relive\n",
      "400 _anushka_0512_\n",
      "401 vansharora95\n",
      "402 poisonsequins\n",
      "403 priyansh___pal\n",
      "404 bansalsayam12\n",
      "405 jaanvieeeee._\n",
      "406 __nedhi__jihaan__\n",
      "407 uvesh__malik__25\n",
      "408 adarsh.ba\n",
      "409 surabhisharma89\n",
      "410 akanksha_poddar\n",
      "411 deep_ankar_behl\n",
      "412 planetherbssciencesindia\n",
      "413 bhushanjadhav866\n",
      "414 akshat_kulshreshtha_4\n",
      "415 annu1187\n",
      "416 twinkle_pupreja\n",
      "417 hiba.ahsan\n",
      "418 pauravvv\n",
      "419 thevsaditya\n",
      "420 rajtatra208\n",
      "421 gayathri_shankar21\n",
      "422 sherinization\n",
      "423 tea.andfood\n",
      "424 dailythoughts_k\n",
      "425 jayesh_padhiyar28_8_4\n",
      "426 abha_prakash\n",
      "427 loving_manish863\n",
      "428 eph_psychologist\n",
      "429 singaniyaaaditya\n",
      "430 its_gaymer\n",
      "431 rishi.obr\n",
      "432 vibhornehra1421\n",
      "433 couples_world07\n",
      "434 divya_rajotia\n",
      "435 adhira_saxena\n",
      "436 _fouji_harsh\n",
      "437 gera.garv\n",
      "438 paayaliyaa\n",
      "439 aftab__rehaman____\n",
      "440 ahm.advertising\n",
      "441 shaurya069\n",
      "442 khansarfaaj\n",
      "443 burn_cee\n",
      "444 bhawna_1998\n",
      "445 pratyushh01\n",
      "446 shadan4141\n",
      "447 garg_himanshuuu\n",
      "448 amy_stylish\n",
      "449 _mokefi\n",
      "450 devender_sh97\n",
      "451 varunarora1825\n",
      "452 ishika.chugh\n",
      "453 sultanali9635\n",
      "454 khandesignstudio\n",
      "455 bhavikt20\n",
      "456 vansh.sharma25\n",
      "457 ashimapunia\n",
      "458 platebwrecker29\n"
     ]
    },
    {
     "name": "stdout",
     "output_type": "stream",
     "text": [
      "459 shivalik110\n",
      "460 yadavtanu800\n",
      "461 saurabh_0815\n",
      "462 kunaljswl\n",
      "463 zo.yakhan3361\n",
      "464 todorokisbich13\n",
      "465 ____wittypunjabiwedding___\n",
      "466 muskaannathani___\n",
      "467 urban_sardarni17\n",
      "468 zees_hanali12\n",
      "469 pawanhypermarket\n",
      "470 azaad_jitendra\n",
      "471 aadeshbhardwaj1901\n",
      "472 aniket_0chauhan_7\n",
      "473 urvashi_7208\n",
      "474 urrfaaaaaa\n",
      "475 shalinijain2209\n",
      "476 uruj__najam\n",
      "477 jagjitsingh5020\n",
      "478 _.khanshab\n",
      "479 anaquariussoul\n",
      "480 _vishakha_19\n",
      "481 inderchahal.fanpage\n",
      "482 abhay2403._\n",
      "483 prajnay.darkins\n",
      "484 princeyadav910\n",
      "485 rajababu67838\n",
      "486 aroosa6624\n",
      "487 radhikamarwah\n",
      "488 raizaphia\n",
      "489 _divs\n",
      "490 ishaputul\n",
      "491 sakshi_27538\n",
      "492 riyasv123\n",
      "493 shefaali__\n",
      "494 aaditdagarmusic\n",
      "495 findyouradvo\n",
      "496 pragya_sehgal\n",
      "497 blueplateindia\n",
      "498 93.18473340\n",
      "499 zeromilepalate\n",
      "500 iprateekaggarwal\n"
     ]
    }
   ],
   "source": [
    "for i in range(500):\n",
    "    print(i+1,li[i].text)"
   ]
  },
  {
   "cell_type": "code",
   "execution_count": 32,
   "metadata": {},
   "outputs": [
    {
     "data": {
      "text/plain": [
       "<selenium.webdriver.remote.webelement.WebElement (session=\"d7a577cd1bd78ed75416ae4b14e8f792\", element=\"20647f32-6ee6-43b1-b094-a4908b86af51\")>"
      ]
     },
     "execution_count": 32,
     "metadata": {},
     "output_type": "execute_result"
    }
   ],
   "source": [
    "close_follower_list = driver.find_element_by_css_selector(\"body > div.RnEpo.Yx5HN > div > div > div:nth-child(1) > div > div:nth-child(3) > button\")\n",
    "close_follower_list"
   ]
  },
  {
   "cell_type": "code",
   "execution_count": 33,
   "metadata": {},
   "outputs": [],
   "source": [
    "close_follower_list.click()"
   ]
  },
  {
   "cell_type": "markdown",
   "metadata": {},
   "source": [
    "# foodtalkindia First 500 Followers"
   ]
  },
  {
   "cell_type": "code",
   "execution_count": 34,
   "metadata": {},
   "outputs": [],
   "source": [
    "driver.get('https://www.instagram.com/foodtalkindia/')"
   ]
  },
  {
   "cell_type": "code",
   "execution_count": 35,
   "metadata": {},
   "outputs": [],
   "source": [
    "follower = driver.find_element_by_xpath('//*[@id=\"react-root\"]/section/main/div/header/section/ul/li[2]/a')\n",
    "follower.click()"
   ]
  },
  {
   "cell_type": "code",
   "execution_count": 36,
   "metadata": {},
   "outputs": [],
   "source": [
    "while True:\n",
    "    driver.find_element_by_class_name(\"isgrP\").click() ## switching to followers list \n",
    "    driver.find_element_by_tag_name(\"body\").send_keys(Keys.END) ### scrolling using End Key\n",
    "    li=driver.find_elements_by_css_selector(\"a.FPmhX.notranslate._0imsa \")\n",
    "    if len(li)>=500:\n",
    "        break\n"
   ]
  },
  {
   "cell_type": "code",
   "execution_count": 37,
   "metadata": {},
   "outputs": [
    {
     "name": "stdout",
     "output_type": "stream",
     "text": [
      "1 _pastimestories\n",
      "2 varunabbi\n",
      "3 shivtejjasud\n",
      "4 whats__on_my_plate\n",
      "5 viren_gondhali.__s__lover\n",
      "6 kamnagarg705\n",
      "7 zayka_darbaar\n",
      "8 adashandasplash\n",
      "9 its_rajesh_choudhary\n",
      "10 mkeishing\n",
      "11 _samruddhi_29\n",
      "12 anishakatyal\n",
      "13 ruby_doobie_food\n",
      "14 kuldeep.kc121\n",
      "15 krish__2019\n",
      "16 twincityflavours\n",
      "17 mohammadibad15\n",
      "18 sivvran_raj\n",
      "19 foodie_arnab\n",
      "20 doralajaydev5\n",
      "21 real.affuu\n",
      "22 raj_rinks\n",
      "23 nitisshhh__\n",
      "24 mr_baba_21\n",
      "25 the_absolut_malan\n",
      "26 asciansays\n",
      "27 cafes_story\n",
      "28 _khushi2512\n",
      "29 passionfor_dreams\n",
      "30 studiobrickandnest\n",
      "31 imsoniadubey\n",
      "32 ritu.vohra.0622\n",
      "33 ganesh.subramani\n",
      "34 creativenaaaz\n",
      "35 mouth_freshner.mumbai\n",
      "36 goutambar50\n",
      "37 sachinbansal211\n",
      "38 mentorica_institute\n",
      "39 ridhimac.narang\n",
      "40 sata_vishab\n",
      "41 foodblogger_ashishkatiyar\n",
      "42 yugininteriordesigns\n",
      "43 lusia_ann\n",
      "44 nikumbhprasad24\n",
      "45 babes_557\n",
      "46 mvk.group\n",
      "47 khaana_badosh004\n",
      "48 mindsinatelier\n",
      "49 chakh_kar_dekho\n",
      "50 ashiq_ali1\n",
      "51 gargikabi\n",
      "52 cool_boy_asit\n",
      "53 flavorsofhummus\n",
      "54 _just__eat__it_\n",
      "55 lost_hearted_9749\n",
      "56 fusionfood259\n",
      "57 sukh_chander\n",
      "58 imilyahi\n",
      "59 israth2050\n",
      "60 amritaagarwalla\n",
      "61 s_m_i_t_3_3_3\n",
      "62 dusky.charm._\n",
      "63 pearlfashionsindia\n",
      "64 bhavipandit\n",
      "65 wokofhappiness\n",
      "66 sudeshna_mukhopadhyay\n",
      "67 qu33n_68\n",
      "68 poonamjoshi386\n",
      "69 mrana27\n",
      "70 quarantinedayss_2020\n",
      "71 niraj___king\n",
      "72 mraqram8319\n",
      "73 moon.coding\n",
      "74 _india.fas.hionheritage_\n",
      "75 food_.laboratory\n",
      "76 cutie_pie_dav_lin\n",
      "77 theleeskitchen\n",
      "78 firangfood\n",
      "79 kkrishna_5075\n",
      "80 being_a_bong\n",
      "81 vanashreeyoga\n",
      "82 vivek_parmar_5055\n",
      "83 ku.suma8409\n",
      "84 explore_world_universe\n",
      "85 aravinds16\n",
      "86 amreenoffscreen\n",
      "87 amirakib4\n",
      "88 _rasmalai\n",
      "89 __n.u.b__x.8\n",
      "90 simuuchokolades\n",
      "91 simran.jhaveriii\n",
      "92 funandfoodwithsourya\n",
      "93 shilpa_chandran1.0\n",
      "94 matka_kilo\n",
      "95 food.is.my.valentine\n",
      "96 rock_jay_001\n",
      "97 dash.bhagyashree\n",
      "98 blissfulbhilai\n",
      "99 _aashii_pvt__\n",
      "100 nashra98760\n",
      "101 ud_prem_\n",
      "102 shellyfoodspot\n",
      "103 _abhedya\n",
      "104 usman_gani.khatri\n",
      "105 friedisthan\n",
      "106 sahidhussain86\n",
      "107 ____wittypunjabiwedding___\n",
      "108 mr_paul_uk_07\n",
      "109 simran___sagar\n",
      "110 yumniastic_india\n",
      "111 naashtotime\n",
      "112 insta_nique\n",
      "113 food_foodie30\n",
      "114 dhairyapatelp\n",
      "115 aakritidobhal\n",
      "116 marvelinsta2020\n",
      "117 _preeran.srishmeer_\n",
      "118 the_kitchensoul\n",
      "119 neouttarakhand\n",
      "120 veenit_rao\n",
      "121 mukeshkuswahamukes\n",
      "122 createcultivate.13\n",
      "123 dhe196\n",
      "124 biswajitsamantaray\n",
      "125 __heri_prottar_333__\n",
      "126 bannorajasthani\n",
      "127 sojadarsh\n",
      "128 anoopetamilindia\n",
      "129 smak7262\n",
      "130 radhikasharma27\n",
      "131 momsmagic6555\n",
      "132 homeandkitchentour\n",
      "133 afterhours_sweettoothfix\n",
      "134 aftabalam488\n",
      "135 sex_toys_toyss\n",
      "136 sukuralig\n",
      "137 shubh_9\n",
      "138 midnight_quirky\n",
      "139 vijan_08\n",
      "140 dipaligaw\n",
      "141 kalpladhani\n",
      "142 fashplatter\n",
      "143 dripping_drizzels\n",
      "144 anileo1794\n",
      "145 roasterycoffeehouseindia\n",
      "146 ambika_bansal26\n",
      "147 bhaavi.agrawal\n",
      "148 ruchisingh47\n",
      "149 sudeepta_bora\n",
      "150 eat_tummyfit\n",
      "151 explorer_pre\n",
      "152 brandonstarling\n",
      "153 milkbajar\n",
      "154 chawlaannu\n",
      "155 vandnachauhan7__\n",
      "156 shorash0sido\n",
      "157 pawan.1986\n",
      "158 ajourneytotell_\n",
      "159 herecomesjony\n",
      "160 thehungryhindustani\n",
      "161 ashah_8438\n",
      "162 akhil_cam\n",
      "163 pooja_duggar\n",
      "164 amafhh_diets\n",
      "165 shivagill_moga\n",
      "166 cake.gallery_by_yasmeen\n",
      "167 ila.hira\n",
      "168 rishi.ratnakar.54\n",
      "169 2mustvisit\n",
      "170 bhukkad_sheth\n",
      "171 anurag.tripathi.5243\n",
      "172 eatsleeprunglow\n",
      "173 prajnay.darkins\n",
      "174 ak.ee.19\n",
      "175 ram_sir_karan_n_group\n",
      "176 agrihalfland\n",
      "177 manuela____food\n",
      "178 sureshchoudharys4128\n",
      "179 gosavi4643\n",
      "180 phalsabji\n",
      "181 blueplateindia\n",
      "182 lakhan.d_\n",
      "183 rivu1017\n",
      "184 food_from_khatyn\n",
      "185 myclickway1\n",
      "186 agricious.sumitbishnoi\n",
      "187 saroj.agrawal.3990\n",
      "188 atul_bakery\n",
      "189 priyanshipal_\n",
      "190 balas_krishnas\n",
      "191 divyamishra94\n",
      "192 mnsgourmetaffairs\n",
      "193 taha_dix_neuf_197\n",
      "194 jituemmii\n",
      "195 ya_man.19\n",
      "196 radhacookingclasses\n",
      "197 homebaker_19\n",
      "198 yumiee_tastieee\n",
      "199 jigyasaaroramehra\n",
      "200 annie_pubgm\n",
      "201 food_freaked\n",
      "202 vinay_ranjan_das7\n",
      "203 sweetsurprise2930\n",
      "204 rrahulkumaar2006\n",
      "205 kamal.5816\n",
      "206 p_i_y_u__sh143\n",
      "207 techknowlogy_updates\n",
      "208 maarzina_poly\n",
      "209 chandan_hiten\n",
      "210 _hate_guy\n",
      "211 chanda_kanu\n",
      "212 smirascafe\n",
      "213 fitness.workout.diet\n",
      "214 siddhali.a.k\n",
      "215 visha_l8688\n",
      "216 manisha_sardiwal\n",
      "217 vishaldogra1990\n",
      "218 avantikalovesunil\n",
      "219 crazy_flavourful_and_frenzy\n",
      "220 fashion__cuisine\n",
      "221 itskushika\n",
      "222 kediasanjiv\n",
      "223 cafelogy2\n",
      "224 a_.shraddha\n",
      "225 archiebags_\n",
      "226 mr.soni1996\n",
      "227 atifsiddiqi\n",
      "228 yum._in_.tum\n",
      "229 yash_pal_singh_chundawat\n",
      "230 anjali.curates\n",
      "231 nikki.nikesh\n",
      "232 local_ka_traveller\n",
      "233 piya7546\n",
      "234 arsheen_384\n",
      "235 kaysgetaway\n",
      "236 hidz1680\n",
      "237 ronakmalviya25\n",
      "238 aajkajevan\n",
      "239 gaurav554sharma\n",
      "240 aryanchandel89\n",
      "241 traveller_foodie._ketki\n",
      "242 ravi_gadhvi_official\n",
      "243 apna_chulha09\n",
      "244 miheerdhamankar\n",
      "245 sachiincy\n",
      "246 its_ashman.__\n",
      "247 itspranavisuals\n",
      "248 zikra1989\n",
      "249 meenalkhandelwal\n",
      "250 dreamprintmedia\n",
      "251 chinmaymittal1978\n",
      "252 sarcasticbaniya00\n",
      "253 _bharath_ennum_naan\n",
      "254 vikashvirk4088\n",
      "255 balaramdey\n",
      "256 shim.a131\n",
      "257 aaliyaruku\n",
      "258 akashbidlan8\n",
      "259 princekhara665\n",
      "260 emanuelezangari_bartender\n",
      "261 the_weekendmixologist\n",
      "262 i_am_rajput0\n",
      "263 pinkyairen\n",
      "264 anujj.kushwah\n",
      "265 santosh.murlidharghodke_dudhad\n",
      "266 aarnav_das\n",
      "267 mdbabulhossain.bd\n",
      "268 jinal__suthar\n",
      "269 theinquisitiveidiot\n",
      "270 _.impriyanka\n",
      "271 foode_mon\n",
      "272 ar_ya7156\n",
      "273 sohamjadhav__15\n",
      "274 rohit.kadam143\n",
      "275 james_d_e_p_e_n\n",
      "276 aagri16\n",
      "277 kaushikfilms\n",
      "278 azhariseafood\n",
      "279 _anil_2423\n",
      "280 parmeetarneja\n",
      "281 foodtastic.mumbai\n",
      "282 chintan_prajapati\n",
      "283 hr.7485\n",
      "284 vipul_aggarwal49\n",
      "285 sharduldevsingh\n",
      "286 nchltoni\n",
      "287 mumbaimaveric\n",
      "288 kanwal_arora\n",
      "289 saikrishna_gunni\n",
      "290 vidhu.gemini\n",
      "291 dr.anoshfiaz\n",
      "292 senthilre\n",
      "293 prerna_chadha\n",
      "294 erikaann810\n",
      "295 ishefali_gupta\n",
      "296 shantin.orickompil\n",
      "297 govindkharol_33\n",
      "298 03hema\n",
      "299 andi_panyiwi\n",
      "300 yashvardhansr16\n",
      "301 syedakiranali75\n",
      "302 cook_wid_pooh\n",
      "303 naveenkhavre\n",
      "304 pratiek7776\n",
      "305 i_m_loveing_aaru_\n",
      "306 celebritymyfavourite\n",
      "307 phalguni_s\n",
      "308 hayatkhan6334\n",
      "309 aditiigarg\n",
      "310 binging_xo\n",
      "311 good_food_70\n",
      "312 raashichavan\n",
      "313 ayush.srivastava.545\n",
      "314 yummy_hai_na\n",
      "315 dikshachandra27\n",
      "316 delhi_hai\n",
      "317 miss_queen_shambhavi\n",
      "318 swayam_2001\n",
      "319 life_is_full_of_surprises_15_\n",
      "320 aj_arbaj_k99\n",
      "321 bani_kl\n",
      "322 jitendrapatel6455\n",
      "323 ohana_enterprise_\n",
      "324 ig_gyanibhaiya\n",
      "325 bharat_mlh\n",
      "326 saroal123\n",
      "327 pallavi.chowdhury092018\n",
      "328 shweta373\n",
      "329 blogwithananya\n",
      "330 foodlove_87\n",
      "331 chaudhary_renu_\n",
      "332 ianamikabanerjee\n",
      "333 rathiji007\n",
      "334 its_dad07\n",
      "335 di.mple31601\n",
      "336 chavan_reshma\n",
      "337 foodarchivers\n",
      "338 __cricket__lover__\n",
      "339 neha___honey_miss\n",
      "340 a27_shutterbug\n",
      "341 shiva.lee007\n",
      "342 huge_collection_\n",
      "343 fez.k\n",
      "344 foodstationbylalli\n",
      "345 adil7_a7\n",
      "346 easy_vegetarian_recipes\n",
      "347 palakkadam9252\n",
      "348 trivendrakumar.deaf\n",
      "349 _n_ia_\n",
      "350 prashanttalawar8\n",
      "351 pangatchawla\n",
      "352 amanshah3232\n",
      "353 mayuhats\n",
      "354 creating.my.vibe\n",
      "355 ihemantthakur\n",
      "356 mail2home_cooking\n",
      "357 siva_24_29\n",
      "358 _chefsplate14\n",
      "359 sanskrutigawali6494\n",
      "360 sidd0306\n",
      "361 foodslockerinfo\n",
      "362 fiza__9900\n",
      "363 srinath8_m\n",
      "364 fun_en_shake\n",
      "365 sibanisaxena\n",
      "366 explore.saurabh\n",
      "367 bongbongfoods\n",
      "368 whiskmixstir\n",
      "369 saira.yusuf.7\n",
      "370 sap_marodi\n",
      "371 shruti._.kansal\n",
      "372 sonalibehl_27\n",
      "373 darkness_exe11\n",
      "374 abhishek_sharma_0008\n",
      "375 kusumasherapur\n",
      "376 sarangheritage\n",
      "377 madovershawls\n",
      "378 prasannakumar.d.581\n",
      "379 maheshchand5680\n",
      "380 thetummylove\n",
      "381 sachinjaat5948\n",
      "382 minugeorge19\n",
      "383 an_uj6496\n",
      "384 mafiaa9962\n",
      "385 simran_talreja9\n",
      "386 stringentlife\n",
      "387 ayush_bhatnagar95\n",
      "388 umesh_vasava_59\n",
      "389 shrieeharipakoda2020\n",
      "390 tejas_patil_1877\n",
      "391 i_am_indian_0k\n",
      "392 ameya.kotian\n",
      "393 root2_ham\n",
      "394 100rab_agrawal\n",
      "395 orgchoin\n",
      "396 mommytimesblog\n",
      "397 maltandsalt1\n",
      "398 reyaan_khuranaa\n",
      "399 vainateymg\n",
      "400 kiranshah2190\n",
      "401 kolik1086\n",
      "402 kunalsain613\n",
      "403 creamy_n_licious\n",
      "404 vivek.maheshwari1012\n",
      "405 foodies_favorites\n",
      "406 amrutaginde\n",
      "407 mv929845\n",
      "408 sharan_soorly\n",
      "409 way2burger\n",
      "410 drift_to_joy\n",
      "411 rafeyather\n",
      "412 guptaarpita04\n",
      "413 sonali._.barahate\n",
      "414 akis_kitchen2020\n",
      "415 mujawar5757\n",
      "416 food.ie154\n",
      "417 vijaysinh126\n",
      "418 _.yohiyouhoes._\n",
      "419 indranild007\n",
      "420 gauravbaba_1331_\n",
      "421 my_mirchi_masala\n",
      "422 visingh8783\n",
      "423 harman_cooking\n",
      "424 chef_rohitrana\n",
      "425 regirtr\n",
      "426 nishant__sinngh\n",
      "427 krisvirshak\n",
      "428 sanjana_6.97\n",
      "429 babbynsjournal\n",
      "430 aman_kochar.ak\n",
      "431 jr.ankitbodh\n",
      "432 maverickamit\n",
      "433 akshataa_patill\n",
      "434 delicacy_at_its_best\n",
      "435 guhnpunjwani\n",
      "436 _chefonstreet\n",
      "437 bhukkadnukkad_\n",
      "438 swatisa\n",
      "439 the_rasoi_basics\n",
      "440 k._bhavika\n",
      "441 adhwait_7777\n",
      "442 _khaadya_padarth\n",
      "443 grainola.in\n",
      "444 ankit_mishra.6\n",
      "445 girl_interested_in_sxchat_dmme\n",
      "446 sohailhashmi919852191\n",
      "447 bonbhojanam\n",
      "448 azza._.fathima\n",
      "449 oasiaan\n",
      "450 loveforlemonandchocolate\n",
      "451 singh_4036\n",
      "452 bhawanajaiswalrecipe\n",
      "453 plates_of_flavours_0113\n",
      "454 b_a_c_k_0987654321\n",
      "455 this_praburam_pb07\n",
      "456 pragyasharmaofficial\n",
      "457 _pushpa_venkatesh_\n"
     ]
    },
    {
     "name": "stdout",
     "output_type": "stream",
     "text": [
      "458 nutsnspreads\n",
      "459 foodelato\n",
      "460 nors_cooking\n",
      "461 khasbaagmisal\n",
      "462 colocalchocolates\n",
      "463 ___stylish_v123\n",
      "464 veekesandcompany\n",
      "465 rare_lioness\n",
      "466 sumit_mutha\n",
      "467 payalpriya669_\n",
      "468 aprajita_gupta\n",
      "469 manaswi_sawant1808\n",
      "470 momschulha\n",
      "471 neha074j\n",
      "472 rahman_ways_09\n",
      "473 deepikadharmskttu\n",
      "474 tcnewdelhi\n",
      "475 akankshakaushik\n",
      "476 travelmax12345\n",
      "477 its_my_karachi_\n",
      "478 mona_annamalai\n",
      "479 ambreenbakshi_youtuber\n",
      "480 whovarunbhalla\n",
      "481 ar__yasharma\n",
      "482 kumodksharma\n",
      "483 s.janu5\n",
      "484 jannatul.nayeam.official\n",
      "485 pulkitluthra\n",
      "486 karekareats\n",
      "487 alliabdul_111\n",
      "488 nr_bellezza\n",
      "489 its_arsh_maan\n",
      "490 srishtiikumar\n",
      "491 praveen.siri\n",
      "492 parth_kad\n",
      "493 krishna_nakarani_\n",
      "494 ammydua\n",
      "495 shilpijain9\n",
      "496 kd34.3\n",
      "497 poonamporasnegi\n",
      "498 jahanseirespadana\n",
      "499 flame_n_food\n",
      "500 sajis_cakes_and_crafts\n"
     ]
    }
   ],
   "source": [
    "for i in range(500):\n",
    "    print(i+1,li[i].text)"
   ]
  },
  {
   "cell_type": "code",
   "execution_count": 38,
   "metadata": {},
   "outputs": [],
   "source": [
    "close_follower_list = driver.find_element_by_xpath(\"/html/body/div[3]/div/div/div[1]/div/div[2]/button\")\n",
    "close_follower_list.click()"
   ]
  },
  {
   "cell_type": "markdown",
   "metadata": {},
   "source": [
    "# Question 6.2"
   ]
  },
  {
   "cell_type": "markdown",
   "metadata": {},
   "source": [
    "•\tAccess those followers Followees of Foodtalkindia follow you Follow But the don't Follow You.\n",
    "•\tFinding these elements by find_elements_by_css_selector(\"a.FPmhX.notranslate._0imsa \")\n"
   ]
  },
  {
   "cell_type": "markdown",
   "metadata": {},
   "source": [
    "## Followees of Foodtalkindia follow you Follow But the don't Follow You"
   ]
  },
  {
   "cell_type": "code",
   "execution_count": 43,
   "metadata": {},
   "outputs": [],
   "source": [
    "follower = driver.find_element_by_xpath('//*[@id=\"react-root\"]/section/main/div/header/section/ul/li[2]/a')\n",
    "follower.click()"
   ]
  },
  {
   "cell_type": "code",
   "execution_count": 44,
   "metadata": {},
   "outputs": [],
   "source": [
    "while True:\n",
    "    driver.find_element_by_class_name(\"isgrP\").click() ## switching to followers list \n",
    "    driver.find_element_by_tag_name(\"body\").send_keys(Keys.END) ### scrolling using End Key\n",
    "    li=driver.find_elements_by_css_selector(\"a.FPmhX.notranslate._0imsa \")\n",
    "    ele1 = driver.find_elements_by_css_selector('div.Pkbci')\n",
    "    if (len(li)>=500) and (len(ele1)>=500):\n",
    "        break"
   ]
  },
  {
   "cell_type": "code",
   "execution_count": 45,
   "metadata": {},
   "outputs": [
    {
     "name": "stdout",
     "output_type": "stream",
     "text": [
      "explore_world_universe\n",
      "travelmax12345\n"
     ]
    }
   ],
   "source": [
    "for i in range(500):\n",
    "    if(ele1[i].text == \"Following\"):\n",
    "        print(li[i].text)"
   ]
  },
  {
   "cell_type": "code",
   "execution_count": 46,
   "metadata": {},
   "outputs": [],
   "source": [
    "close_follower_list = driver.find_element_by_css_selector(\"body > div.RnEpo.Yx5HN > div > div > div:nth-child(1) > div > div:nth-child(3) > button\")\n",
    "close_follower_list.click()"
   ]
  },
  {
   "cell_type": "markdown",
   "metadata": {},
   "source": [
    "# Question Number 7"
   ]
  },
  {
   "cell_type": "markdown",
   "metadata": {},
   "source": [
    "•\tSearch and open Coding Ninjas profile on Instagram.\n",
    "•\tSelect and inspect the story of the coding ninja profile.\n",
    "•\tAccess the story using xpath driver.find_element_by_css_selector('#react-root > section > main > div > header > div > div > canvas')\n",
    "•\tCheck the height of the story of the story \n",
    "•\tCheck story present or not .if not then print story not present.\n",
    "•\tIf story height is 208 print \"Already viewed the story\". If story height is 210 then print “story present but not viewed.\n"
   ]
  },
  {
   "cell_type": "code",
   "execution_count": 47,
   "metadata": {},
   "outputs": [],
   "source": [
    "driver.get('https://www.instagram.com/coding.ninjas/')"
   ]
  },
  {
   "cell_type": "code",
   "execution_count": 48,
   "metadata": {},
   "outputs": [],
   "source": [
    "ninja_story = driver.find_element_by_css_selector('#react-root > section > main > div > header > div > div > canvas')\n",
    "story = driver.find_element_by_css_selector('#react-root > section > main > div > header > div > div')\n",
    "time.sleep(5)"
   ]
  },
  {
   "cell_type": "code",
   "execution_count": 49,
   "metadata": {},
   "outputs": [],
   "source": [
    "heigth = ninja_story.get_attribute('height')\n",
    "story_present_or_not = story.get_attribute('aria-disabled')\n",
    "time.sleep(5)"
   ]
  },
  {
   "cell_type": "code",
   "execution_count": 51,
   "metadata": {},
   "outputs": [
    {
     "name": "stdout",
     "output_type": "stream",
     "text": [
      "Story present but User hasn't viewed the story yet\n"
     ]
    }
   ],
   "source": [
    "if(heigth == '208'):\n",
    "    print(\"Aready viewed the story\")\n",
    "elif(heigth == '210'):\n",
    "    if(story_present_or_not == 'true'):\n",
    "        print('the user has no story')\n",
    "    else:\n",
    "        print(\"Story present but User hasn't viewed the story yet\")\n"
   ]
  }
 ],
 "metadata": {
  "kernelspec": {
   "display_name": "Python 3",
   "language": "python",
   "name": "python3"
  },
  "language_info": {
   "codemirror_mode": {
    "name": "ipython",
    "version": 3
   },
   "file_extension": ".py",
   "mimetype": "text/x-python",
   "name": "python",
   "nbconvert_exporter": "python",
   "pygments_lexer": "ipython3",
   "version": "3.8.3"
  }
 },
 "nbformat": 4,
 "nbformat_minor": 4
}
